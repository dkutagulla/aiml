{
  "nbformat": 4,
  "nbformat_minor": 0,
  "metadata": {
    "colab": {
      "name": "Machine Learning Notes",
      "provenance": [],
      "collapsed_sections": [],
      "mount_file_id": "1bMOBpRPHSiarG-Av0_lMIVQNttwj0xQ0",
      "authorship_tag": "ABX9TyP6rRAhVw9PWC9FEgfp5Okk",
      "include_colab_link": true
    },
    "kernelspec": {
      "name": "python3",
      "display_name": "Python 3"
    },
    "widgets": {
      "application/vnd.jupyter.widget-state+json": {
        "3ceee7f01c094804b1764d21ba752076": {
          "model_module": "@jupyter-widgets/controls",
          "model_name": "HBoxModel",
          "state": {
            "_view_name": "HBoxView",
            "_dom_classes": [],
            "_model_name": "HBoxModel",
            "_view_module": "@jupyter-widgets/controls",
            "_model_module_version": "1.5.0",
            "_view_count": null,
            "_view_module_version": "1.5.0",
            "box_style": "",
            "layout": "IPY_MODEL_aac72d7367a64883820d78952a34aed5",
            "_model_module": "@jupyter-widgets/controls",
            "children": [
              "IPY_MODEL_cd127a0a3643403f9b0e54b703ab5627",
              "IPY_MODEL_7a48377ee83e4aaaa24ffc6f4c55e1d2"
            ]
          }
        },
        "aac72d7367a64883820d78952a34aed5": {
          "model_module": "@jupyter-widgets/base",
          "model_name": "LayoutModel",
          "state": {
            "_view_name": "LayoutView",
            "grid_template_rows": null,
            "right": null,
            "justify_content": null,
            "_view_module": "@jupyter-widgets/base",
            "overflow": null,
            "_model_module_version": "1.2.0",
            "_view_count": null,
            "flex_flow": null,
            "width": null,
            "min_width": null,
            "border": null,
            "align_items": null,
            "bottom": null,
            "_model_module": "@jupyter-widgets/base",
            "top": null,
            "grid_column": null,
            "overflow_y": null,
            "overflow_x": null,
            "grid_auto_flow": null,
            "grid_area": null,
            "grid_template_columns": null,
            "flex": null,
            "_model_name": "LayoutModel",
            "justify_items": null,
            "grid_row": null,
            "max_height": null,
            "align_content": null,
            "visibility": null,
            "align_self": null,
            "height": null,
            "min_height": null,
            "padding": null,
            "grid_auto_rows": null,
            "grid_gap": null,
            "max_width": null,
            "order": null,
            "_view_module_version": "1.2.0",
            "grid_template_areas": null,
            "object_position": null,
            "object_fit": null,
            "grid_auto_columns": null,
            "margin": null,
            "display": null,
            "left": null
          }
        },
        "cd127a0a3643403f9b0e54b703ab5627": {
          "model_module": "@jupyter-widgets/controls",
          "model_name": "FloatProgressModel",
          "state": {
            "_view_name": "ProgressView",
            "style": "IPY_MODEL_d8bc185e8749412fa5c1ea6fe587050d",
            "_dom_classes": [],
            "description": "Dl Completed...: 100%",
            "_model_name": "FloatProgressModel",
            "bar_style": "success",
            "max": 1,
            "_view_module": "@jupyter-widgets/controls",
            "_model_module_version": "1.5.0",
            "value": 1,
            "_view_count": null,
            "_view_module_version": "1.5.0",
            "orientation": "horizontal",
            "min": 0,
            "description_tooltip": null,
            "_model_module": "@jupyter-widgets/controls",
            "layout": "IPY_MODEL_e81f3fb012d94d5e94e0eb967e01154b"
          }
        },
        "7a48377ee83e4aaaa24ffc6f4c55e1d2": {
          "model_module": "@jupyter-widgets/controls",
          "model_name": "HTMLModel",
          "state": {
            "_view_name": "HTMLView",
            "style": "IPY_MODEL_5cadcc088b4345fda8e54f72ae5cd06c",
            "_dom_classes": [],
            "description": "",
            "_model_name": "HTMLModel",
            "placeholder": "​",
            "_view_module": "@jupyter-widgets/controls",
            "_model_module_version": "1.5.0",
            "value": " 4/4 [00:03&lt;00:00,  1.22 url/s]",
            "_view_count": null,
            "_view_module_version": "1.5.0",
            "description_tooltip": null,
            "_model_module": "@jupyter-widgets/controls",
            "layout": "IPY_MODEL_a21f386b0aac498386cd7c556a8da053"
          }
        },
        "d8bc185e8749412fa5c1ea6fe587050d": {
          "model_module": "@jupyter-widgets/controls",
          "model_name": "ProgressStyleModel",
          "state": {
            "_view_name": "StyleView",
            "_model_name": "ProgressStyleModel",
            "description_width": "initial",
            "_view_module": "@jupyter-widgets/base",
            "_model_module_version": "1.5.0",
            "_view_count": null,
            "_view_module_version": "1.2.0",
            "bar_color": null,
            "_model_module": "@jupyter-widgets/controls"
          }
        },
        "e81f3fb012d94d5e94e0eb967e01154b": {
          "model_module": "@jupyter-widgets/base",
          "model_name": "LayoutModel",
          "state": {
            "_view_name": "LayoutView",
            "grid_template_rows": null,
            "right": null,
            "justify_content": null,
            "_view_module": "@jupyter-widgets/base",
            "overflow": null,
            "_model_module_version": "1.2.0",
            "_view_count": null,
            "flex_flow": null,
            "width": null,
            "min_width": null,
            "border": null,
            "align_items": null,
            "bottom": null,
            "_model_module": "@jupyter-widgets/base",
            "top": null,
            "grid_column": null,
            "overflow_y": null,
            "overflow_x": null,
            "grid_auto_flow": null,
            "grid_area": null,
            "grid_template_columns": null,
            "flex": null,
            "_model_name": "LayoutModel",
            "justify_items": null,
            "grid_row": null,
            "max_height": null,
            "align_content": null,
            "visibility": null,
            "align_self": null,
            "height": null,
            "min_height": null,
            "padding": null,
            "grid_auto_rows": null,
            "grid_gap": null,
            "max_width": null,
            "order": null,
            "_view_module_version": "1.2.0",
            "grid_template_areas": null,
            "object_position": null,
            "object_fit": null,
            "grid_auto_columns": null,
            "margin": null,
            "display": null,
            "left": null
          }
        },
        "5cadcc088b4345fda8e54f72ae5cd06c": {
          "model_module": "@jupyter-widgets/controls",
          "model_name": "DescriptionStyleModel",
          "state": {
            "_view_name": "StyleView",
            "_model_name": "DescriptionStyleModel",
            "description_width": "",
            "_view_module": "@jupyter-widgets/base",
            "_model_module_version": "1.5.0",
            "_view_count": null,
            "_view_module_version": "1.2.0",
            "_model_module": "@jupyter-widgets/controls"
          }
        },
        "a21f386b0aac498386cd7c556a8da053": {
          "model_module": "@jupyter-widgets/base",
          "model_name": "LayoutModel",
          "state": {
            "_view_name": "LayoutView",
            "grid_template_rows": null,
            "right": null,
            "justify_content": null,
            "_view_module": "@jupyter-widgets/base",
            "overflow": null,
            "_model_module_version": "1.2.0",
            "_view_count": null,
            "flex_flow": null,
            "width": null,
            "min_width": null,
            "border": null,
            "align_items": null,
            "bottom": null,
            "_model_module": "@jupyter-widgets/base",
            "top": null,
            "grid_column": null,
            "overflow_y": null,
            "overflow_x": null,
            "grid_auto_flow": null,
            "grid_area": null,
            "grid_template_columns": null,
            "flex": null,
            "_model_name": "LayoutModel",
            "justify_items": null,
            "grid_row": null,
            "max_height": null,
            "align_content": null,
            "visibility": null,
            "align_self": null,
            "height": null,
            "min_height": null,
            "padding": null,
            "grid_auto_rows": null,
            "grid_gap": null,
            "max_width": null,
            "order": null,
            "_view_module_version": "1.2.0",
            "grid_template_areas": null,
            "object_position": null,
            "object_fit": null,
            "grid_auto_columns": null,
            "margin": null,
            "display": null,
            "left": null
          }
        },
        "fba5a7db4a3f41d2bd9dd1f4bf916adf": {
          "model_module": "@jupyter-widgets/controls",
          "model_name": "HBoxModel",
          "state": {
            "_view_name": "HBoxView",
            "_dom_classes": [],
            "_model_name": "HBoxModel",
            "_view_module": "@jupyter-widgets/controls",
            "_model_module_version": "1.5.0",
            "_view_count": null,
            "_view_module_version": "1.5.0",
            "box_style": "",
            "layout": "IPY_MODEL_0431fb641b12436e89243ee957390d55",
            "_model_module": "@jupyter-widgets/controls",
            "children": [
              "IPY_MODEL_05a1b5916a0a4ba4be0b85c2385f119f",
              "IPY_MODEL_ef4a2b49495c43139365286bcf73278f"
            ]
          }
        },
        "0431fb641b12436e89243ee957390d55": {
          "model_module": "@jupyter-widgets/base",
          "model_name": "LayoutModel",
          "state": {
            "_view_name": "LayoutView",
            "grid_template_rows": null,
            "right": null,
            "justify_content": null,
            "_view_module": "@jupyter-widgets/base",
            "overflow": null,
            "_model_module_version": "1.2.0",
            "_view_count": null,
            "flex_flow": null,
            "width": null,
            "min_width": null,
            "border": null,
            "align_items": null,
            "bottom": null,
            "_model_module": "@jupyter-widgets/base",
            "top": null,
            "grid_column": null,
            "overflow_y": null,
            "overflow_x": null,
            "grid_auto_flow": null,
            "grid_area": null,
            "grid_template_columns": null,
            "flex": null,
            "_model_name": "LayoutModel",
            "justify_items": null,
            "grid_row": null,
            "max_height": null,
            "align_content": null,
            "visibility": null,
            "align_self": null,
            "height": null,
            "min_height": null,
            "padding": null,
            "grid_auto_rows": null,
            "grid_gap": null,
            "max_width": null,
            "order": null,
            "_view_module_version": "1.2.0",
            "grid_template_areas": null,
            "object_position": null,
            "object_fit": null,
            "grid_auto_columns": null,
            "margin": null,
            "display": null,
            "left": null
          }
        },
        "05a1b5916a0a4ba4be0b85c2385f119f": {
          "model_module": "@jupyter-widgets/controls",
          "model_name": "FloatProgressModel",
          "state": {
            "_view_name": "ProgressView",
            "style": "IPY_MODEL_de5edba7197a4d569f3541a7d42db1be",
            "_dom_classes": [],
            "description": "Dl Size...: 100%",
            "_model_name": "FloatProgressModel",
            "bar_style": "success",
            "max": 1,
            "_view_module": "@jupyter-widgets/controls",
            "_model_module_version": "1.5.0",
            "value": 1,
            "_view_count": null,
            "_view_module_version": "1.5.0",
            "orientation": "horizontal",
            "min": 0,
            "description_tooltip": null,
            "_model_module": "@jupyter-widgets/controls",
            "layout": "IPY_MODEL_09e9d28f039d420eaf40aab20d1a9707"
          }
        },
        "ef4a2b49495c43139365286bcf73278f": {
          "model_module": "@jupyter-widgets/controls",
          "model_name": "HTMLModel",
          "state": {
            "_view_name": "HTMLView",
            "style": "IPY_MODEL_142c43148ba14b1d83d3bed114c22405",
            "_dom_classes": [],
            "description": "",
            "_model_name": "HTMLModel",
            "placeholder": "​",
            "_view_module": "@jupyter-widgets/controls",
            "_model_module_version": "1.5.0",
            "value": " 29/29 [00:03&lt;00:00,  8.92 MiB/s]",
            "_view_count": null,
            "_view_module_version": "1.5.0",
            "description_tooltip": null,
            "_model_module": "@jupyter-widgets/controls",
            "layout": "IPY_MODEL_12c0d83f4af348cabbf3d0bfc1ea5ac7"
          }
        },
        "de5edba7197a4d569f3541a7d42db1be": {
          "model_module": "@jupyter-widgets/controls",
          "model_name": "ProgressStyleModel",
          "state": {
            "_view_name": "StyleView",
            "_model_name": "ProgressStyleModel",
            "description_width": "initial",
            "_view_module": "@jupyter-widgets/base",
            "_model_module_version": "1.5.0",
            "_view_count": null,
            "_view_module_version": "1.2.0",
            "bar_color": null,
            "_model_module": "@jupyter-widgets/controls"
          }
        },
        "09e9d28f039d420eaf40aab20d1a9707": {
          "model_module": "@jupyter-widgets/base",
          "model_name": "LayoutModel",
          "state": {
            "_view_name": "LayoutView",
            "grid_template_rows": null,
            "right": null,
            "justify_content": null,
            "_view_module": "@jupyter-widgets/base",
            "overflow": null,
            "_model_module_version": "1.2.0",
            "_view_count": null,
            "flex_flow": null,
            "width": null,
            "min_width": null,
            "border": null,
            "align_items": null,
            "bottom": null,
            "_model_module": "@jupyter-widgets/base",
            "top": null,
            "grid_column": null,
            "overflow_y": null,
            "overflow_x": null,
            "grid_auto_flow": null,
            "grid_area": null,
            "grid_template_columns": null,
            "flex": null,
            "_model_name": "LayoutModel",
            "justify_items": null,
            "grid_row": null,
            "max_height": null,
            "align_content": null,
            "visibility": null,
            "align_self": null,
            "height": null,
            "min_height": null,
            "padding": null,
            "grid_auto_rows": null,
            "grid_gap": null,
            "max_width": null,
            "order": null,
            "_view_module_version": "1.2.0",
            "grid_template_areas": null,
            "object_position": null,
            "object_fit": null,
            "grid_auto_columns": null,
            "margin": null,
            "display": null,
            "left": null
          }
        },
        "142c43148ba14b1d83d3bed114c22405": {
          "model_module": "@jupyter-widgets/controls",
          "model_name": "DescriptionStyleModel",
          "state": {
            "_view_name": "StyleView",
            "_model_name": "DescriptionStyleModel",
            "description_width": "",
            "_view_module": "@jupyter-widgets/base",
            "_model_module_version": "1.5.0",
            "_view_count": null,
            "_view_module_version": "1.2.0",
            "_model_module": "@jupyter-widgets/controls"
          }
        },
        "12c0d83f4af348cabbf3d0bfc1ea5ac7": {
          "model_module": "@jupyter-widgets/base",
          "model_name": "LayoutModel",
          "state": {
            "_view_name": "LayoutView",
            "grid_template_rows": null,
            "right": null,
            "justify_content": null,
            "_view_module": "@jupyter-widgets/base",
            "overflow": null,
            "_model_module_version": "1.2.0",
            "_view_count": null,
            "flex_flow": null,
            "width": null,
            "min_width": null,
            "border": null,
            "align_items": null,
            "bottom": null,
            "_model_module": "@jupyter-widgets/base",
            "top": null,
            "grid_column": null,
            "overflow_y": null,
            "overflow_x": null,
            "grid_auto_flow": null,
            "grid_area": null,
            "grid_template_columns": null,
            "flex": null,
            "_model_name": "LayoutModel",
            "justify_items": null,
            "grid_row": null,
            "max_height": null,
            "align_content": null,
            "visibility": null,
            "align_self": null,
            "height": null,
            "min_height": null,
            "padding": null,
            "grid_auto_rows": null,
            "grid_gap": null,
            "max_width": null,
            "order": null,
            "_view_module_version": "1.2.0",
            "grid_template_areas": null,
            "object_position": null,
            "object_fit": null,
            "grid_auto_columns": null,
            "margin": null,
            "display": null,
            "left": null
          }
        },
        "742b31f1ad2343d89abdcab967bdaa59": {
          "model_module": "@jupyter-widgets/controls",
          "model_name": "HBoxModel",
          "state": {
            "_view_name": "HBoxView",
            "_dom_classes": [],
            "_model_name": "HBoxModel",
            "_view_module": "@jupyter-widgets/controls",
            "_model_module_version": "1.5.0",
            "_view_count": null,
            "_view_module_version": "1.5.0",
            "box_style": "",
            "layout": "IPY_MODEL_379ad42bb701433497e3bca66427d253",
            "_model_module": "@jupyter-widgets/controls",
            "children": [
              "IPY_MODEL_204f5fa89a4e429d997d4eb0aff5eb31",
              "IPY_MODEL_78ac29fcfc0b409da4f4cde8d51f78dc"
            ]
          }
        },
        "379ad42bb701433497e3bca66427d253": {
          "model_module": "@jupyter-widgets/base",
          "model_name": "LayoutModel",
          "state": {
            "_view_name": "LayoutView",
            "grid_template_rows": null,
            "right": null,
            "justify_content": null,
            "_view_module": "@jupyter-widgets/base",
            "overflow": null,
            "_model_module_version": "1.2.0",
            "_view_count": null,
            "flex_flow": null,
            "width": null,
            "min_width": null,
            "border": null,
            "align_items": null,
            "bottom": null,
            "_model_module": "@jupyter-widgets/base",
            "top": null,
            "grid_column": null,
            "overflow_y": null,
            "overflow_x": null,
            "grid_auto_flow": null,
            "grid_area": null,
            "grid_template_columns": null,
            "flex": null,
            "_model_name": "LayoutModel",
            "justify_items": null,
            "grid_row": null,
            "max_height": null,
            "align_content": null,
            "visibility": null,
            "align_self": null,
            "height": null,
            "min_height": null,
            "padding": null,
            "grid_auto_rows": null,
            "grid_gap": null,
            "max_width": null,
            "order": null,
            "_view_module_version": "1.2.0",
            "grid_template_areas": null,
            "object_position": null,
            "object_fit": null,
            "grid_auto_columns": null,
            "margin": null,
            "display": null,
            "left": null
          }
        },
        "204f5fa89a4e429d997d4eb0aff5eb31": {
          "model_module": "@jupyter-widgets/controls",
          "model_name": "FloatProgressModel",
          "state": {
            "_view_name": "ProgressView",
            "style": "IPY_MODEL_60e025ad03b94a99b3ca7b8dc105998a",
            "_dom_classes": [],
            "description": "Extraction completed...: 100%",
            "_model_name": "FloatProgressModel",
            "bar_style": "success",
            "max": 1,
            "_view_module": "@jupyter-widgets/controls",
            "_model_module_version": "1.5.0",
            "value": 1,
            "_view_count": null,
            "_view_module_version": "1.5.0",
            "orientation": "horizontal",
            "min": 0,
            "description_tooltip": null,
            "_model_module": "@jupyter-widgets/controls",
            "layout": "IPY_MODEL_157959e84e3244feb947bfc66910d684"
          }
        },
        "78ac29fcfc0b409da4f4cde8d51f78dc": {
          "model_module": "@jupyter-widgets/controls",
          "model_name": "HTMLModel",
          "state": {
            "_view_name": "HTMLView",
            "style": "IPY_MODEL_23ff31fc629b4a9cbdf056f98be8fed8",
            "_dom_classes": [],
            "description": "",
            "_model_name": "HTMLModel",
            "placeholder": "​",
            "_view_module": "@jupyter-widgets/controls",
            "_model_module_version": "1.5.0",
            "value": " 4/4 [00:03&lt;00:00,  1.24 file/s]",
            "_view_count": null,
            "_view_module_version": "1.5.0",
            "description_tooltip": null,
            "_model_module": "@jupyter-widgets/controls",
            "layout": "IPY_MODEL_2c4e75cd1aca4b4bba9b770a6ed8d4f8"
          }
        },
        "60e025ad03b94a99b3ca7b8dc105998a": {
          "model_module": "@jupyter-widgets/controls",
          "model_name": "ProgressStyleModel",
          "state": {
            "_view_name": "StyleView",
            "_model_name": "ProgressStyleModel",
            "description_width": "initial",
            "_view_module": "@jupyter-widgets/base",
            "_model_module_version": "1.5.0",
            "_view_count": null,
            "_view_module_version": "1.2.0",
            "bar_color": null,
            "_model_module": "@jupyter-widgets/controls"
          }
        },
        "157959e84e3244feb947bfc66910d684": {
          "model_module": "@jupyter-widgets/base",
          "model_name": "LayoutModel",
          "state": {
            "_view_name": "LayoutView",
            "grid_template_rows": null,
            "right": null,
            "justify_content": null,
            "_view_module": "@jupyter-widgets/base",
            "overflow": null,
            "_model_module_version": "1.2.0",
            "_view_count": null,
            "flex_flow": null,
            "width": null,
            "min_width": null,
            "border": null,
            "align_items": null,
            "bottom": null,
            "_model_module": "@jupyter-widgets/base",
            "top": null,
            "grid_column": null,
            "overflow_y": null,
            "overflow_x": null,
            "grid_auto_flow": null,
            "grid_area": null,
            "grid_template_columns": null,
            "flex": null,
            "_model_name": "LayoutModel",
            "justify_items": null,
            "grid_row": null,
            "max_height": null,
            "align_content": null,
            "visibility": null,
            "align_self": null,
            "height": null,
            "min_height": null,
            "padding": null,
            "grid_auto_rows": null,
            "grid_gap": null,
            "max_width": null,
            "order": null,
            "_view_module_version": "1.2.0",
            "grid_template_areas": null,
            "object_position": null,
            "object_fit": null,
            "grid_auto_columns": null,
            "margin": null,
            "display": null,
            "left": null
          }
        },
        "23ff31fc629b4a9cbdf056f98be8fed8": {
          "model_module": "@jupyter-widgets/controls",
          "model_name": "DescriptionStyleModel",
          "state": {
            "_view_name": "StyleView",
            "_model_name": "DescriptionStyleModel",
            "description_width": "",
            "_view_module": "@jupyter-widgets/base",
            "_model_module_version": "1.5.0",
            "_view_count": null,
            "_view_module_version": "1.2.0",
            "_model_module": "@jupyter-widgets/controls"
          }
        },
        "2c4e75cd1aca4b4bba9b770a6ed8d4f8": {
          "model_module": "@jupyter-widgets/base",
          "model_name": "LayoutModel",
          "state": {
            "_view_name": "LayoutView",
            "grid_template_rows": null,
            "right": null,
            "justify_content": null,
            "_view_module": "@jupyter-widgets/base",
            "overflow": null,
            "_model_module_version": "1.2.0",
            "_view_count": null,
            "flex_flow": null,
            "width": null,
            "min_width": null,
            "border": null,
            "align_items": null,
            "bottom": null,
            "_model_module": "@jupyter-widgets/base",
            "top": null,
            "grid_column": null,
            "overflow_y": null,
            "overflow_x": null,
            "grid_auto_flow": null,
            "grid_area": null,
            "grid_template_columns": null,
            "flex": null,
            "_model_name": "LayoutModel",
            "justify_items": null,
            "grid_row": null,
            "max_height": null,
            "align_content": null,
            "visibility": null,
            "align_self": null,
            "height": null,
            "min_height": null,
            "padding": null,
            "grid_auto_rows": null,
            "grid_gap": null,
            "max_width": null,
            "order": null,
            "_view_module_version": "1.2.0",
            "grid_template_areas": null,
            "object_position": null,
            "object_fit": null,
            "grid_auto_columns": null,
            "margin": null,
            "display": null,
            "left": null
          }
        },
        "5d4365f0f801485187858b7fa57c3b17": {
          "model_module": "@jupyter-widgets/controls",
          "model_name": "HBoxModel",
          "state": {
            "_view_name": "HBoxView",
            "_dom_classes": [],
            "_model_name": "HBoxModel",
            "_view_module": "@jupyter-widgets/controls",
            "_model_module_version": "1.5.0",
            "_view_count": null,
            "_view_module_version": "1.5.0",
            "box_style": "",
            "layout": "IPY_MODEL_acb8af20a5284bbeb7e80ce124f9296c",
            "_model_module": "@jupyter-widgets/controls",
            "children": [
              "IPY_MODEL_76811f8d6b3a4f2cab4860f1864707a1",
              "IPY_MODEL_551a17247b604d2e8135b4fc51f50cbc"
            ]
          }
        },
        "acb8af20a5284bbeb7e80ce124f9296c": {
          "model_module": "@jupyter-widgets/base",
          "model_name": "LayoutModel",
          "state": {
            "_view_name": "LayoutView",
            "grid_template_rows": null,
            "right": null,
            "justify_content": null,
            "_view_module": "@jupyter-widgets/base",
            "overflow": null,
            "_model_module_version": "1.2.0",
            "_view_count": null,
            "flex_flow": null,
            "width": null,
            "min_width": null,
            "border": null,
            "align_items": null,
            "bottom": null,
            "_model_module": "@jupyter-widgets/base",
            "top": null,
            "grid_column": null,
            "overflow_y": null,
            "overflow_x": null,
            "grid_auto_flow": null,
            "grid_area": null,
            "grid_template_columns": null,
            "flex": null,
            "_model_name": "LayoutModel",
            "justify_items": null,
            "grid_row": null,
            "max_height": null,
            "align_content": null,
            "visibility": null,
            "align_self": null,
            "height": null,
            "min_height": null,
            "padding": null,
            "grid_auto_rows": null,
            "grid_gap": null,
            "max_width": null,
            "order": null,
            "_view_module_version": "1.2.0",
            "grid_template_areas": null,
            "object_position": null,
            "object_fit": null,
            "grid_auto_columns": null,
            "margin": null,
            "display": null,
            "left": null
          }
        },
        "76811f8d6b3a4f2cab4860f1864707a1": {
          "model_module": "@jupyter-widgets/controls",
          "model_name": "FloatProgressModel",
          "state": {
            "_view_name": "ProgressView",
            "style": "IPY_MODEL_4340d0cc1c814acfa6de983c0b2576f1",
            "_dom_classes": [],
            "description": "",
            "_model_name": "FloatProgressModel",
            "bar_style": "info",
            "max": 1,
            "_view_module": "@jupyter-widgets/controls",
            "_model_module_version": "1.5.0",
            "value": 1,
            "_view_count": null,
            "_view_module_version": "1.5.0",
            "orientation": "horizontal",
            "min": 0,
            "description_tooltip": null,
            "_model_module": "@jupyter-widgets/controls",
            "layout": "IPY_MODEL_197ffbcabc924b049eca212eec9449b4"
          }
        },
        "551a17247b604d2e8135b4fc51f50cbc": {
          "model_module": "@jupyter-widgets/controls",
          "model_name": "HTMLModel",
          "state": {
            "_view_name": "HTMLView",
            "style": "IPY_MODEL_9076a2bbec054eeca77611b031786bc6",
            "_dom_classes": [],
            "description": "",
            "_model_name": "HTMLModel",
            "placeholder": "​",
            "_view_module": "@jupyter-widgets/controls",
            "_model_module_version": "1.5.0",
            "value": " 60000/0 [00:21&lt;00:00, 2771.53 examples/s]",
            "_view_count": null,
            "_view_module_version": "1.5.0",
            "description_tooltip": null,
            "_model_module": "@jupyter-widgets/controls",
            "layout": "IPY_MODEL_d4a0f774fb3d4e2a9ff977bb274f2c71"
          }
        },
        "4340d0cc1c814acfa6de983c0b2576f1": {
          "model_module": "@jupyter-widgets/controls",
          "model_name": "ProgressStyleModel",
          "state": {
            "_view_name": "StyleView",
            "_model_name": "ProgressStyleModel",
            "description_width": "initial",
            "_view_module": "@jupyter-widgets/base",
            "_model_module_version": "1.5.0",
            "_view_count": null,
            "_view_module_version": "1.2.0",
            "bar_color": null,
            "_model_module": "@jupyter-widgets/controls"
          }
        },
        "197ffbcabc924b049eca212eec9449b4": {
          "model_module": "@jupyter-widgets/base",
          "model_name": "LayoutModel",
          "state": {
            "_view_name": "LayoutView",
            "grid_template_rows": null,
            "right": null,
            "justify_content": null,
            "_view_module": "@jupyter-widgets/base",
            "overflow": null,
            "_model_module_version": "1.2.0",
            "_view_count": null,
            "flex_flow": null,
            "width": null,
            "min_width": null,
            "border": null,
            "align_items": null,
            "bottom": null,
            "_model_module": "@jupyter-widgets/base",
            "top": null,
            "grid_column": null,
            "overflow_y": null,
            "overflow_x": null,
            "grid_auto_flow": null,
            "grid_area": null,
            "grid_template_columns": null,
            "flex": null,
            "_model_name": "LayoutModel",
            "justify_items": null,
            "grid_row": null,
            "max_height": null,
            "align_content": null,
            "visibility": null,
            "align_self": null,
            "height": null,
            "min_height": null,
            "padding": null,
            "grid_auto_rows": null,
            "grid_gap": null,
            "max_width": null,
            "order": null,
            "_view_module_version": "1.2.0",
            "grid_template_areas": null,
            "object_position": null,
            "object_fit": null,
            "grid_auto_columns": null,
            "margin": null,
            "display": null,
            "left": null
          }
        },
        "9076a2bbec054eeca77611b031786bc6": {
          "model_module": "@jupyter-widgets/controls",
          "model_name": "DescriptionStyleModel",
          "state": {
            "_view_name": "StyleView",
            "_model_name": "DescriptionStyleModel",
            "description_width": "",
            "_view_module": "@jupyter-widgets/base",
            "_model_module_version": "1.5.0",
            "_view_count": null,
            "_view_module_version": "1.2.0",
            "_model_module": "@jupyter-widgets/controls"
          }
        },
        "d4a0f774fb3d4e2a9ff977bb274f2c71": {
          "model_module": "@jupyter-widgets/base",
          "model_name": "LayoutModel",
          "state": {
            "_view_name": "LayoutView",
            "grid_template_rows": null,
            "right": null,
            "justify_content": null,
            "_view_module": "@jupyter-widgets/base",
            "overflow": null,
            "_model_module_version": "1.2.0",
            "_view_count": null,
            "flex_flow": null,
            "width": null,
            "min_width": null,
            "border": null,
            "align_items": null,
            "bottom": null,
            "_model_module": "@jupyter-widgets/base",
            "top": null,
            "grid_column": null,
            "overflow_y": null,
            "overflow_x": null,
            "grid_auto_flow": null,
            "grid_area": null,
            "grid_template_columns": null,
            "flex": null,
            "_model_name": "LayoutModel",
            "justify_items": null,
            "grid_row": null,
            "max_height": null,
            "align_content": null,
            "visibility": null,
            "align_self": null,
            "height": null,
            "min_height": null,
            "padding": null,
            "grid_auto_rows": null,
            "grid_gap": null,
            "max_width": null,
            "order": null,
            "_view_module_version": "1.2.0",
            "grid_template_areas": null,
            "object_position": null,
            "object_fit": null,
            "grid_auto_columns": null,
            "margin": null,
            "display": null,
            "left": null
          }
        },
        "000a50261e9647768c2658f6a7b12e5f": {
          "model_module": "@jupyter-widgets/controls",
          "model_name": "HBoxModel",
          "state": {
            "_view_name": "HBoxView",
            "_dom_classes": [],
            "_model_name": "HBoxModel",
            "_view_module": "@jupyter-widgets/controls",
            "_model_module_version": "1.5.0",
            "_view_count": null,
            "_view_module_version": "1.5.0",
            "box_style": "",
            "layout": "IPY_MODEL_04252041d81640eba1c7e82b527ab24e",
            "_model_module": "@jupyter-widgets/controls",
            "children": [
              "IPY_MODEL_99d6cf353ae44e32a8ddc422ca6439ff",
              "IPY_MODEL_f444676567f7456aaed925f39585d373"
            ]
          }
        },
        "04252041d81640eba1c7e82b527ab24e": {
          "model_module": "@jupyter-widgets/base",
          "model_name": "LayoutModel",
          "state": {
            "_view_name": "LayoutView",
            "grid_template_rows": null,
            "right": null,
            "justify_content": null,
            "_view_module": "@jupyter-widgets/base",
            "overflow": null,
            "_model_module_version": "1.2.0",
            "_view_count": null,
            "flex_flow": null,
            "width": null,
            "min_width": null,
            "border": null,
            "align_items": null,
            "bottom": null,
            "_model_module": "@jupyter-widgets/base",
            "top": null,
            "grid_column": null,
            "overflow_y": null,
            "overflow_x": null,
            "grid_auto_flow": null,
            "grid_area": null,
            "grid_template_columns": null,
            "flex": null,
            "_model_name": "LayoutModel",
            "justify_items": null,
            "grid_row": null,
            "max_height": null,
            "align_content": null,
            "visibility": null,
            "align_self": null,
            "height": null,
            "min_height": null,
            "padding": null,
            "grid_auto_rows": null,
            "grid_gap": null,
            "max_width": null,
            "order": null,
            "_view_module_version": "1.2.0",
            "grid_template_areas": null,
            "object_position": null,
            "object_fit": null,
            "grid_auto_columns": null,
            "margin": null,
            "display": null,
            "left": null
          }
        },
        "99d6cf353ae44e32a8ddc422ca6439ff": {
          "model_module": "@jupyter-widgets/controls",
          "model_name": "FloatProgressModel",
          "state": {
            "_view_name": "ProgressView",
            "style": "IPY_MODEL_c098f0a4103e444d856112cb8f4d1686",
            "_dom_classes": [],
            "description": " 57%",
            "_model_name": "FloatProgressModel",
            "bar_style": "danger",
            "max": 60000,
            "_view_module": "@jupyter-widgets/controls",
            "_model_module_version": "1.5.0",
            "value": 34422,
            "_view_count": null,
            "_view_module_version": "1.5.0",
            "orientation": "horizontal",
            "min": 0,
            "description_tooltip": null,
            "_model_module": "@jupyter-widgets/controls",
            "layout": "IPY_MODEL_b0abc85e468c408eb5b9e145bbf9d63e"
          }
        },
        "f444676567f7456aaed925f39585d373": {
          "model_module": "@jupyter-widgets/controls",
          "model_name": "HTMLModel",
          "state": {
            "_view_name": "HTMLView",
            "style": "IPY_MODEL_2d62123d56ca4a6fb4d09a6297b3eaa0",
            "_dom_classes": [],
            "description": "",
            "_model_name": "HTMLModel",
            "placeholder": "​",
            "_view_module": "@jupyter-widgets/controls",
            "_model_module_version": "1.5.0",
            "value": " 34422/60000 [00:00&lt;31:09, 13.68 examples/s]",
            "_view_count": null,
            "_view_module_version": "1.5.0",
            "description_tooltip": null,
            "_model_module": "@jupyter-widgets/controls",
            "layout": "IPY_MODEL_ed520d40e35e490d8bb261ecea7260a5"
          }
        },
        "c098f0a4103e444d856112cb8f4d1686": {
          "model_module": "@jupyter-widgets/controls",
          "model_name": "ProgressStyleModel",
          "state": {
            "_view_name": "StyleView",
            "_model_name": "ProgressStyleModel",
            "description_width": "initial",
            "_view_module": "@jupyter-widgets/base",
            "_model_module_version": "1.5.0",
            "_view_count": null,
            "_view_module_version": "1.2.0",
            "bar_color": null,
            "_model_module": "@jupyter-widgets/controls"
          }
        },
        "b0abc85e468c408eb5b9e145bbf9d63e": {
          "model_module": "@jupyter-widgets/base",
          "model_name": "LayoutModel",
          "state": {
            "_view_name": "LayoutView",
            "grid_template_rows": null,
            "right": null,
            "justify_content": null,
            "_view_module": "@jupyter-widgets/base",
            "overflow": null,
            "_model_module_version": "1.2.0",
            "_view_count": null,
            "flex_flow": null,
            "width": null,
            "min_width": null,
            "border": null,
            "align_items": null,
            "bottom": null,
            "_model_module": "@jupyter-widgets/base",
            "top": null,
            "grid_column": null,
            "overflow_y": null,
            "overflow_x": null,
            "grid_auto_flow": null,
            "grid_area": null,
            "grid_template_columns": null,
            "flex": null,
            "_model_name": "LayoutModel",
            "justify_items": null,
            "grid_row": null,
            "max_height": null,
            "align_content": null,
            "visibility": null,
            "align_self": null,
            "height": null,
            "min_height": null,
            "padding": null,
            "grid_auto_rows": null,
            "grid_gap": null,
            "max_width": null,
            "order": null,
            "_view_module_version": "1.2.0",
            "grid_template_areas": null,
            "object_position": null,
            "object_fit": null,
            "grid_auto_columns": null,
            "margin": null,
            "display": null,
            "left": null
          }
        },
        "2d62123d56ca4a6fb4d09a6297b3eaa0": {
          "model_module": "@jupyter-widgets/controls",
          "model_name": "DescriptionStyleModel",
          "state": {
            "_view_name": "StyleView",
            "_model_name": "DescriptionStyleModel",
            "description_width": "",
            "_view_module": "@jupyter-widgets/base",
            "_model_module_version": "1.5.0",
            "_view_count": null,
            "_view_module_version": "1.2.0",
            "_model_module": "@jupyter-widgets/controls"
          }
        },
        "ed520d40e35e490d8bb261ecea7260a5": {
          "model_module": "@jupyter-widgets/base",
          "model_name": "LayoutModel",
          "state": {
            "_view_name": "LayoutView",
            "grid_template_rows": null,
            "right": null,
            "justify_content": null,
            "_view_module": "@jupyter-widgets/base",
            "overflow": null,
            "_model_module_version": "1.2.0",
            "_view_count": null,
            "flex_flow": null,
            "width": null,
            "min_width": null,
            "border": null,
            "align_items": null,
            "bottom": null,
            "_model_module": "@jupyter-widgets/base",
            "top": null,
            "grid_column": null,
            "overflow_y": null,
            "overflow_x": null,
            "grid_auto_flow": null,
            "grid_area": null,
            "grid_template_columns": null,
            "flex": null,
            "_model_name": "LayoutModel",
            "justify_items": null,
            "grid_row": null,
            "max_height": null,
            "align_content": null,
            "visibility": null,
            "align_self": null,
            "height": null,
            "min_height": null,
            "padding": null,
            "grid_auto_rows": null,
            "grid_gap": null,
            "max_width": null,
            "order": null,
            "_view_module_version": "1.2.0",
            "grid_template_areas": null,
            "object_position": null,
            "object_fit": null,
            "grid_auto_columns": null,
            "margin": null,
            "display": null,
            "left": null
          }
        },
        "0019d17dc2634b058ad54822c253ca75": {
          "model_module": "@jupyter-widgets/controls",
          "model_name": "HBoxModel",
          "state": {
            "_view_name": "HBoxView",
            "_dom_classes": [],
            "_model_name": "HBoxModel",
            "_view_module": "@jupyter-widgets/controls",
            "_model_module_version": "1.5.0",
            "_view_count": null,
            "_view_module_version": "1.5.0",
            "box_style": "",
            "layout": "IPY_MODEL_a2aeb0a15ab647d4ba68485367e906b2",
            "_model_module": "@jupyter-widgets/controls",
            "children": [
              "IPY_MODEL_a47e9fa1dd724d289a23dc58ecc0377d",
              "IPY_MODEL_2cad6a4f87e94d59bcfea240963440ab"
            ]
          }
        },
        "a2aeb0a15ab647d4ba68485367e906b2": {
          "model_module": "@jupyter-widgets/base",
          "model_name": "LayoutModel",
          "state": {
            "_view_name": "LayoutView",
            "grid_template_rows": null,
            "right": null,
            "justify_content": null,
            "_view_module": "@jupyter-widgets/base",
            "overflow": null,
            "_model_module_version": "1.2.0",
            "_view_count": null,
            "flex_flow": null,
            "width": null,
            "min_width": null,
            "border": null,
            "align_items": null,
            "bottom": null,
            "_model_module": "@jupyter-widgets/base",
            "top": null,
            "grid_column": null,
            "overflow_y": null,
            "overflow_x": null,
            "grid_auto_flow": null,
            "grid_area": null,
            "grid_template_columns": null,
            "flex": null,
            "_model_name": "LayoutModel",
            "justify_items": null,
            "grid_row": null,
            "max_height": null,
            "align_content": null,
            "visibility": null,
            "align_self": null,
            "height": null,
            "min_height": null,
            "padding": null,
            "grid_auto_rows": null,
            "grid_gap": null,
            "max_width": null,
            "order": null,
            "_view_module_version": "1.2.0",
            "grid_template_areas": null,
            "object_position": null,
            "object_fit": null,
            "grid_auto_columns": null,
            "margin": null,
            "display": null,
            "left": null
          }
        },
        "a47e9fa1dd724d289a23dc58ecc0377d": {
          "model_module": "@jupyter-widgets/controls",
          "model_name": "FloatProgressModel",
          "state": {
            "_view_name": "ProgressView",
            "style": "IPY_MODEL_541c5087ecbe460d9022f739b074f03e",
            "_dom_classes": [],
            "description": "",
            "_model_name": "FloatProgressModel",
            "bar_style": "info",
            "max": 1,
            "_view_module": "@jupyter-widgets/controls",
            "_model_module_version": "1.5.0",
            "value": 1,
            "_view_count": null,
            "_view_module_version": "1.5.0",
            "orientation": "horizontal",
            "min": 0,
            "description_tooltip": null,
            "_model_module": "@jupyter-widgets/controls",
            "layout": "IPY_MODEL_b28108b7a014475a8619517791c10ace"
          }
        },
        "2cad6a4f87e94d59bcfea240963440ab": {
          "model_module": "@jupyter-widgets/controls",
          "model_name": "HTMLModel",
          "state": {
            "_view_name": "HTMLView",
            "style": "IPY_MODEL_ecf7720fa4034b96ae11e3be808dc6b4",
            "_dom_classes": [],
            "description": "",
            "_model_name": "HTMLModel",
            "placeholder": "​",
            "_view_module": "@jupyter-widgets/controls",
            "_model_module_version": "1.5.0",
            "value": " 10000/0 [00:03&lt;00:00, 2695.32 examples/s]",
            "_view_count": null,
            "_view_module_version": "1.5.0",
            "description_tooltip": null,
            "_model_module": "@jupyter-widgets/controls",
            "layout": "IPY_MODEL_a694863bdd564e36996a3464630625ab"
          }
        },
        "541c5087ecbe460d9022f739b074f03e": {
          "model_module": "@jupyter-widgets/controls",
          "model_name": "ProgressStyleModel",
          "state": {
            "_view_name": "StyleView",
            "_model_name": "ProgressStyleModel",
            "description_width": "initial",
            "_view_module": "@jupyter-widgets/base",
            "_model_module_version": "1.5.0",
            "_view_count": null,
            "_view_module_version": "1.2.0",
            "bar_color": null,
            "_model_module": "@jupyter-widgets/controls"
          }
        },
        "b28108b7a014475a8619517791c10ace": {
          "model_module": "@jupyter-widgets/base",
          "model_name": "LayoutModel",
          "state": {
            "_view_name": "LayoutView",
            "grid_template_rows": null,
            "right": null,
            "justify_content": null,
            "_view_module": "@jupyter-widgets/base",
            "overflow": null,
            "_model_module_version": "1.2.0",
            "_view_count": null,
            "flex_flow": null,
            "width": null,
            "min_width": null,
            "border": null,
            "align_items": null,
            "bottom": null,
            "_model_module": "@jupyter-widgets/base",
            "top": null,
            "grid_column": null,
            "overflow_y": null,
            "overflow_x": null,
            "grid_auto_flow": null,
            "grid_area": null,
            "grid_template_columns": null,
            "flex": null,
            "_model_name": "LayoutModel",
            "justify_items": null,
            "grid_row": null,
            "max_height": null,
            "align_content": null,
            "visibility": null,
            "align_self": null,
            "height": null,
            "min_height": null,
            "padding": null,
            "grid_auto_rows": null,
            "grid_gap": null,
            "max_width": null,
            "order": null,
            "_view_module_version": "1.2.0",
            "grid_template_areas": null,
            "object_position": null,
            "object_fit": null,
            "grid_auto_columns": null,
            "margin": null,
            "display": null,
            "left": null
          }
        },
        "ecf7720fa4034b96ae11e3be808dc6b4": {
          "model_module": "@jupyter-widgets/controls",
          "model_name": "DescriptionStyleModel",
          "state": {
            "_view_name": "StyleView",
            "_model_name": "DescriptionStyleModel",
            "description_width": "",
            "_view_module": "@jupyter-widgets/base",
            "_model_module_version": "1.5.0",
            "_view_count": null,
            "_view_module_version": "1.2.0",
            "_model_module": "@jupyter-widgets/controls"
          }
        },
        "a694863bdd564e36996a3464630625ab": {
          "model_module": "@jupyter-widgets/base",
          "model_name": "LayoutModel",
          "state": {
            "_view_name": "LayoutView",
            "grid_template_rows": null,
            "right": null,
            "justify_content": null,
            "_view_module": "@jupyter-widgets/base",
            "overflow": null,
            "_model_module_version": "1.2.0",
            "_view_count": null,
            "flex_flow": null,
            "width": null,
            "min_width": null,
            "border": null,
            "align_items": null,
            "bottom": null,
            "_model_module": "@jupyter-widgets/base",
            "top": null,
            "grid_column": null,
            "overflow_y": null,
            "overflow_x": null,
            "grid_auto_flow": null,
            "grid_area": null,
            "grid_template_columns": null,
            "flex": null,
            "_model_name": "LayoutModel",
            "justify_items": null,
            "grid_row": null,
            "max_height": null,
            "align_content": null,
            "visibility": null,
            "align_self": null,
            "height": null,
            "min_height": null,
            "padding": null,
            "grid_auto_rows": null,
            "grid_gap": null,
            "max_width": null,
            "order": null,
            "_view_module_version": "1.2.0",
            "grid_template_areas": null,
            "object_position": null,
            "object_fit": null,
            "grid_auto_columns": null,
            "margin": null,
            "display": null,
            "left": null
          }
        },
        "b023252dd6e14b5d94c5af726b7080b0": {
          "model_module": "@jupyter-widgets/controls",
          "model_name": "HBoxModel",
          "state": {
            "_view_name": "HBoxView",
            "_dom_classes": [],
            "_model_name": "HBoxModel",
            "_view_module": "@jupyter-widgets/controls",
            "_model_module_version": "1.5.0",
            "_view_count": null,
            "_view_module_version": "1.5.0",
            "box_style": "",
            "layout": "IPY_MODEL_d94899879e234f41b4e037b4ec084514",
            "_model_module": "@jupyter-widgets/controls",
            "children": [
              "IPY_MODEL_03f832f471f24e809880f64c3bd4c225",
              "IPY_MODEL_cab1eb29909a4c4799d92c3ddfd991da"
            ]
          }
        },
        "d94899879e234f41b4e037b4ec084514": {
          "model_module": "@jupyter-widgets/base",
          "model_name": "LayoutModel",
          "state": {
            "_view_name": "LayoutView",
            "grid_template_rows": null,
            "right": null,
            "justify_content": null,
            "_view_module": "@jupyter-widgets/base",
            "overflow": null,
            "_model_module_version": "1.2.0",
            "_view_count": null,
            "flex_flow": null,
            "width": null,
            "min_width": null,
            "border": null,
            "align_items": null,
            "bottom": null,
            "_model_module": "@jupyter-widgets/base",
            "top": null,
            "grid_column": null,
            "overflow_y": null,
            "overflow_x": null,
            "grid_auto_flow": null,
            "grid_area": null,
            "grid_template_columns": null,
            "flex": null,
            "_model_name": "LayoutModel",
            "justify_items": null,
            "grid_row": null,
            "max_height": null,
            "align_content": null,
            "visibility": null,
            "align_self": null,
            "height": null,
            "min_height": null,
            "padding": null,
            "grid_auto_rows": null,
            "grid_gap": null,
            "max_width": null,
            "order": null,
            "_view_module_version": "1.2.0",
            "grid_template_areas": null,
            "object_position": null,
            "object_fit": null,
            "grid_auto_columns": null,
            "margin": null,
            "display": null,
            "left": null
          }
        },
        "03f832f471f24e809880f64c3bd4c225": {
          "model_module": "@jupyter-widgets/controls",
          "model_name": "FloatProgressModel",
          "state": {
            "_view_name": "ProgressView",
            "style": "IPY_MODEL_40b98a20a1914d86ac375564c96ac117",
            "_dom_classes": [],
            "description": "  0%",
            "_model_name": "FloatProgressModel",
            "bar_style": "danger",
            "max": 10000,
            "_view_module": "@jupyter-widgets/controls",
            "_model_module_version": "1.5.0",
            "value": 0,
            "_view_count": null,
            "_view_module_version": "1.5.0",
            "orientation": "horizontal",
            "min": 0,
            "description_tooltip": null,
            "_model_module": "@jupyter-widgets/controls",
            "layout": "IPY_MODEL_a7271e30525f4a598922ee70957d8e8e"
          }
        },
        "cab1eb29909a4c4799d92c3ddfd991da": {
          "model_module": "@jupyter-widgets/controls",
          "model_name": "HTMLModel",
          "state": {
            "_view_name": "HTMLView",
            "style": "IPY_MODEL_c59b777117ae4ce09977af5a6b66ab55",
            "_dom_classes": [],
            "description": "",
            "_model_name": "HTMLModel",
            "placeholder": "​",
            "_view_module": "@jupyter-widgets/controls",
            "_model_module_version": "1.5.0",
            "value": " 0/10000 [00:00&lt;?, ? examples/s]",
            "_view_count": null,
            "_view_module_version": "1.5.0",
            "description_tooltip": null,
            "_model_module": "@jupyter-widgets/controls",
            "layout": "IPY_MODEL_c5d208a818174c0c9d5d921ac5e3b344"
          }
        },
        "40b98a20a1914d86ac375564c96ac117": {
          "model_module": "@jupyter-widgets/controls",
          "model_name": "ProgressStyleModel",
          "state": {
            "_view_name": "StyleView",
            "_model_name": "ProgressStyleModel",
            "description_width": "initial",
            "_view_module": "@jupyter-widgets/base",
            "_model_module_version": "1.5.0",
            "_view_count": null,
            "_view_module_version": "1.2.0",
            "bar_color": null,
            "_model_module": "@jupyter-widgets/controls"
          }
        },
        "a7271e30525f4a598922ee70957d8e8e": {
          "model_module": "@jupyter-widgets/base",
          "model_name": "LayoutModel",
          "state": {
            "_view_name": "LayoutView",
            "grid_template_rows": null,
            "right": null,
            "justify_content": null,
            "_view_module": "@jupyter-widgets/base",
            "overflow": null,
            "_model_module_version": "1.2.0",
            "_view_count": null,
            "flex_flow": null,
            "width": null,
            "min_width": null,
            "border": null,
            "align_items": null,
            "bottom": null,
            "_model_module": "@jupyter-widgets/base",
            "top": null,
            "grid_column": null,
            "overflow_y": null,
            "overflow_x": null,
            "grid_auto_flow": null,
            "grid_area": null,
            "grid_template_columns": null,
            "flex": null,
            "_model_name": "LayoutModel",
            "justify_items": null,
            "grid_row": null,
            "max_height": null,
            "align_content": null,
            "visibility": null,
            "align_self": null,
            "height": null,
            "min_height": null,
            "padding": null,
            "grid_auto_rows": null,
            "grid_gap": null,
            "max_width": null,
            "order": null,
            "_view_module_version": "1.2.0",
            "grid_template_areas": null,
            "object_position": null,
            "object_fit": null,
            "grid_auto_columns": null,
            "margin": null,
            "display": null,
            "left": null
          }
        },
        "c59b777117ae4ce09977af5a6b66ab55": {
          "model_module": "@jupyter-widgets/controls",
          "model_name": "DescriptionStyleModel",
          "state": {
            "_view_name": "StyleView",
            "_model_name": "DescriptionStyleModel",
            "description_width": "",
            "_view_module": "@jupyter-widgets/base",
            "_model_module_version": "1.5.0",
            "_view_count": null,
            "_view_module_version": "1.2.0",
            "_model_module": "@jupyter-widgets/controls"
          }
        },
        "c5d208a818174c0c9d5d921ac5e3b344": {
          "model_module": "@jupyter-widgets/base",
          "model_name": "LayoutModel",
          "state": {
            "_view_name": "LayoutView",
            "grid_template_rows": null,
            "right": null,
            "justify_content": null,
            "_view_module": "@jupyter-widgets/base",
            "overflow": null,
            "_model_module_version": "1.2.0",
            "_view_count": null,
            "flex_flow": null,
            "width": null,
            "min_width": null,
            "border": null,
            "align_items": null,
            "bottom": null,
            "_model_module": "@jupyter-widgets/base",
            "top": null,
            "grid_column": null,
            "overflow_y": null,
            "overflow_x": null,
            "grid_auto_flow": null,
            "grid_area": null,
            "grid_template_columns": null,
            "flex": null,
            "_model_name": "LayoutModel",
            "justify_items": null,
            "grid_row": null,
            "max_height": null,
            "align_content": null,
            "visibility": null,
            "align_self": null,
            "height": null,
            "min_height": null,
            "padding": null,
            "grid_auto_rows": null,
            "grid_gap": null,
            "max_width": null,
            "order": null,
            "_view_module_version": "1.2.0",
            "grid_template_areas": null,
            "object_position": null,
            "object_fit": null,
            "grid_auto_columns": null,
            "margin": null,
            "display": null,
            "left": null
          }
        }
      }
    }
  },
  "cells": [
    {
      "cell_type": "markdown",
      "metadata": {
        "id": "view-in-github",
        "colab_type": "text"
      },
      "source": [
        "<a href=\"https://colab.research.google.com/github/dkutagulla/aiml/blob/AI_ML_ForCoders/Machine_Learning_Notes.ipynb\" target=\"_parent\"><img src=\"https://colab.research.google.com/assets/colab-badge.svg\" alt=\"Open In Colab\"/></a>"
      ]
    },
    {
      "cell_type": "markdown",
      "metadata": {
        "id": "5C1BjYg-3S4v"
      },
      "source": [
        "# Introduction\r\n"
      ]
    },
    {
      "cell_type": "markdown",
      "metadata": {
        "id": "8tJ4m7FPJyxl"
      },
      "source": [
        "My notes of ML book I am reading **AI and Machine Learning for Coders**\r\n",
        "https://www.amazon.com/Machine-Learning-Coders-Programmers-Intelligence/dp/1492078190/ref=sr_1_1?dchild=1&keywords=AI+and+Machine+Learning+for+Coders&qid=1609385872&sr=8-1\r\n",
        "\r\n",
        "Notes using TensorFlow API"
      ]
    },
    {
      "cell_type": "markdown",
      "metadata": {
        "id": "nRsh-K-f3wp7"
      },
      "source": [
        "# TensorFlow version"
      ]
    },
    {
      "cell_type": "code",
      "metadata": {
        "colab": {
          "base_uri": "https://localhost:8080/"
        },
        "id": "KakY95S83AVu",
        "outputId": "f03c6132-74dd-431c-e526-faa6767af635"
      },
      "source": [
        "import tensorflow as tf\r\n",
        "print(tf.__version__)"
      ],
      "execution_count": null,
      "outputs": [
        {
          "output_type": "stream",
          "text": [
            "2.4.0\n"
          ],
          "name": "stdout"
        }
      ]
    },
    {
      "cell_type": "markdown",
      "metadata": {
        "id": "RzjbXtrf5FMu"
      },
      "source": [
        "# Model \r\n",
        "1. relationship that takes input(s) and produces output(s)\r\n",
        "2. contains (set of)  parameters that transform input to output.\r\n",
        "idea is to have a set of parameters that can apply to all input(s) values \r\n",
        "Neurons are the individual building blocks of the models\r\n",
        "\r\n"
      ]
    },
    {
      "cell_type": "markdown",
      "metadata": {
        "id": "pGoFYvgDQ2PC"
      },
      "source": [
        "# Really Simple Neural Network\r\n",
        "Determine relation (model)  between x and y based on input data\r\n",
        "1. build the model using a sample of x input values and y output values and use it to predict a value of y given a x value.\r\n",
        "2. have tf output parameters of the model.\r\n"
      ]
    },
    {
      "cell_type": "code",
      "metadata": {
        "id": "dSWoAj6t4Aqg"
      },
      "source": [
        "import tensorflow as tf\r\n",
        "import numpy as np\r\n",
        "\r\n",
        "from tensorflow.keras import Sequential\r\n",
        "from tensorflow.keras.layers import Dense\r\n",
        "\r\n",
        "first_layer = Dense( \r\n",
        "    units=1, # how many neurons \r\n",
        "    input_shape=[1] # how many inputs to neuron ;\r\n",
        "    # ONLY specified for first layer\r\n",
        "    )\r\n",
        "\r\n",
        "# model has array of layers inside the Sequential container \r\n",
        "model = Sequential( \r\n",
        "                   [ # layer description  ; array of layers\r\n",
        "                       first_layer\r\n",
        "                   ]  \r\n",
        "    )\r\n",
        "\r\n",
        "# setup training method sgd = stochastic gradient descent\r\n",
        "model.compile(optimizer='sgd', loss='mean_squared_error')\r\n",
        "\r\n",
        "# example data to develop model\r\n",
        "xs = np.array([-1.0, 0.0, 1.0, 2.0, 3.0, 4.0], dtype=float)\r\n",
        "ys = np.array([-3.0, -1.0, 1.0, 3.0, 5.0, 7.0], dtype=float)\r\n",
        "\r\n",
        "model.fit(xs, ys, epochs=500) # train model on input data for 500 trials\r\n",
        "\r\n",
        "print(\"Model predicted value for x=10 : {}\" .format ( model.predict([10.0]))) # use model to predict value\r\n",
        "\r\n",
        "# output how model looks like\r\n",
        "print(\"Model parameters: {}\".format(\r\n",
        "                                    first_layer.get_weights()\r\n",
        "                                    ))\r\n"
      ],
      "execution_count": null,
      "outputs": []
    },
    {
      "cell_type": "markdown",
      "metadata": {
        "id": "LjOOe1GwK8hu"
      },
      "source": [
        "# ML for image classification\r\n",
        "\r\n",
        "##Goal \r\n",
        "Train the computer to 'see' twhat type of apparel a given picture shows : e.g. shoe, dress, ankle boot etc) \r\n",
        "\r\n",
        "##Input \r\n",
        "FashionMNIST: DB of B/W images of apparel. \r\n",
        "\r\n",
        "# Solution \r\n",
        "Use a densely connected Neural network  and train it with available images.\r\n",
        "\r\n",
        "## Data structure : Neural network (NN)\r\n",
        "3 layer NN \r\n",
        "* 0th layer : flattened input layer ( in order to be able to feed values to neurons). \r\n",
        "Layer consist of series of numbers \r\n",
        "2D Image data converted into a 1D series of numbers\r\n",
        "* 1st layer of of 128 neurons\r\n",
        "* 2nd layer of 10 output neurons ( since there are 10 classes in image data set) \r\n",
        "128 is a hyperparameter : it specifies how many neurons are present. It is not model parameter but a parameter that determines the structure of the Neural network \r\n",
        "Each layer defines an Activation function. This defines the functionality of each neuron in that lyaer) \r\n",
        "\r\n"
      ]
    },
    {
      "cell_type": "code",
      "metadata": {
        "id": "aRPF3EzRq1Ms"
      },
      "source": [
        "import tensorflow as tf\r\n",
        "\r\n",
        "data = tf.keras.datasets.fashion_mnist\r\n",
        "(training_images, training_labels), (test_images, test_labels) = data.load_data()\r\n",
        "\r\n",
        "training_images  = training_images / 255.0\r\n",
        "test_images = test_images / 255.0\r\n",
        "\r\n",
        "\r\n",
        "model = tf.keras.models.Sequential(\r\n",
        "         [\r\n",
        "           tf.keras.layers.Flatten(input_shape=(28, 28)), # image flattening layer                                    \r\n",
        "           ## the neural network\r\n",
        "           tf.keras.layers.Dense(128, activation=tf.nn.relu),\r\n",
        "           tf.keras.layers.Dense(10, activation=tf.nn.softmax)\r\n",
        "         ]\r\n",
        "    )\r\n",
        "\r\n",
        "model.compile(\r\n",
        "    optimizer='adam',\r\n",
        "    loss='sparse_categorical_crossentropy',\r\n",
        "    metrics=['accuracy']\r\n",
        "    )\r\n",
        "\r\n",
        "model.fit(training_images, training_labels, epochs=5)\r\n",
        "\r\n",
        "model.evaluate(test_images, test_labels)"
      ],
      "execution_count": null,
      "outputs": []
    },
    {
      "cell_type": "markdown",
      "metadata": {
        "id": "RDFAs9QCmrYk"
      },
      "source": [
        "\r\n",
        "# Convolutional Neural Networks (CNNs)\r\n",
        "\r\n",
        "To improve model training turnaround time, the number of parameters in model needs to reduced without losing important parameters information useful to train model. \r\n",
        "\r\n",
        "Convolution and Pooling are two common operations applied in sequence to extract salient features in the model and reduce the input data size while preserving the said features contained in the input data.\r\n",
        "\r\n",
        "##  Convolution \r\n",
        "Convolution is used to emphasize features in am image.\r\n",
        "\r\n",
        "Convolution is implemented as a matrix of coefficients. this matrix is called a filter (a.k.a kernel) . The filter is 'superposed' on top of the image ( which is itself a 28 x 28 matrix) and slid across it while ensuring that the filter matrix does not go out out the image boundary. As the filter matrix is slid across the image, image pixel values are multiplied by filter values and the product is stored into another image matrix. the resultant image matrix is a Convolved version of original image.\r\n",
        "\r\n",
        "In ML Convolution is modelled as a neural network. it consists of neurons. Each neuron performs a  multiplication ( convolution) on each pixel.  The result is fed forward to the output layers where the loss value  ( via loss function) is computed. The error is computed from this loss value and used to compute the scaling factors for filter matrix coefficients. These cofficients are the weights and bias values for that neuron. The cofficients are scaled by the scaling factors and fed back to neuron which computes another convolution value. This process is repeated for each neuron AND repeated as whole until the convolution layer achieves a small loss. \r\n",
        "\r\n",
        "## Pooling\r\n",
        "Pooling is used to reduce image  (input data)  size while keeping features. \r\n",
        "Pooling is typically applied after convolution in order to extract features from convoluted image.  This operation reduces the size of input data and thus improves model performace and accuracy. \r\n",
        "\r\n",
        "In ML, a Pooling layer is used to reduce the number of wieghts and bias values ( effectively reducing the # of neurons). this helps reduce the size of network and thusimprove computation time improving performance. It also helps to enhance accurace of model. lesser nrurons can mean less noise which prents the model from diverging.  \r\n",
        "\r\n",
        "\r\n",
        "# More information: \r\n",
        "1. https://homepages.inf.ed.ac.uk/rbf/HIPR2/convolve.htm\r\n",
        "2. https://blog.francium.tech/machine-learning-convolution-for-image-processing-42623c8dbec0\r\n",
        "\r\n",
        "\r\n",
        "Original Densely Connected NN: \r\n",
        "\r\n"
      ]
    },
    {
      "cell_type": "code",
      "metadata": {
        "id": "H0QXeH9q0uFt"
      },
      "source": [
        "import tensorflow as tf\r\n",
        "data = tf.keras.datasets.fashion_mnist\r\n",
        "\r\n",
        "(training_images, training_labels), (test_images, test_labels) = data.load_data()\r\n",
        "\r\n",
        "training_images = training_images / 255.0\r\n",
        "test_images = test_images / 255.0\r\n",
        "\r\n",
        "# the NN definition\r\n",
        "\r\n",
        "# First layer Flatten is only input layer does not have any neurons \r\n",
        "# The 2nd (hidden) and 3rd (output)  layer have 128 and 10 neurons \r\n",
        "# and are densely (Dense)  interconnected.\r\n",
        "\r\n",
        "model = tf.keras.models.Sequential([\r\n",
        "      tf.keras.layers.Flatten(input_shape=(28, 28)),\r\n",
        "      tf.keras.layers.Dense(128, activation=tf.nn.relu),\r\n",
        "      tf.keras.layers.Dense(10, activation=tf.nn.softmax)\r\n",
        "    ])\r\n",
        "\r\n",
        "# specify how to train the NN \r\n",
        "model.compile(optimizer='adam',\r\n",
        "       loss='sparse_categorical_crossentropy',\r\n",
        "       metrics=['accuracy'])\r\n",
        "\r\n",
        "# do the training\r\n",
        "model.fit(training_images, training_labels, epochs=5)\r\n",
        "\r\n",
        "model.summary()\r\n",
        "\r\n",
        "\r\n"
      ],
      "execution_count": null,
      "outputs": []
    },
    {
      "cell_type": "markdown",
      "metadata": {
        "id": "p0uL1mDs0vMn"
      },
      "source": [
        "CNN : A Densely connected NN with Covolution and Pooling layers in between the inputs and Densely connected Neural layer."
      ]
    },
    {
      "cell_type": "code",
      "metadata": {
        "id": "FINZ8Bnis4Ar"
      },
      "source": [
        "import tensorflow as tf\r\n",
        "data = tf.keras.datasets.fashion_mnist\r\n",
        "\r\n",
        "(training_images, training_labels), (test_images, test_labels) = data.load_data()\r\n",
        "\r\n",
        "# massage and normalize training data to be 3D \r\n",
        "training_images = training_images.reshape(60000, 28, 28, 1)\r\n",
        "training_images = training_images / 255.0\r\n",
        "\r\n",
        "# massage and normalize test data to be 3D \r\n",
        "test_images = test_images.reshape(10000, 28, 28, 1)\r\n",
        "test_images = test_images / 255.0\r\n",
        "\r\n",
        "model = tf.keras.models.Sequential([\r\n",
        "# convolution and pooling layers                                    \r\n",
        "   tf.keras.layers.Conv2D(64, \r\n",
        "                          (3, 3), \r\n",
        "                          activation='relu', \r\n",
        "                          input_shape=(28, 28, 1)),\r\n",
        "   tf.keras.layers.MaxPooling2D(2, 2),      \r\n",
        "   tf.keras.layers.Conv2D(64, (3, 3), activation='relu'),      \r\n",
        "   tf.keras.layers.MaxPooling2D(2,2),      \r\n",
        "# NN  input layer\r\n",
        "   tf.keras.layers.Flatten(),      \r\n",
        "# NN\r\n",
        "   tf.keras.layers.Dense(128, activation=tf.nn.relu),\r\n",
        "   tf.keras.layers.Dense(10, activation=tf.nn.softmax)    \r\n",
        "   ])\r\n",
        "\r\n",
        "model.compile(optimizer='adam',       \r\n",
        "              loss='sparse_categorical_crossentropy',       \r\n",
        "              metrics=['accuracy'])\r\n",
        "\r\n",
        "model.fit(training_images, training_labels, epochs=50)\r\n",
        "\r\n",
        "model.evaluate(test_images, test_labels)\r\n",
        "model.summary()"
      ],
      "execution_count": null,
      "outputs": []
    },
    {
      "cell_type": "markdown",
      "metadata": {
        "id": "KFAMwm11D5O1"
      },
      "source": [
        "# More Realistic CNN Example\r\n",
        "\r\n",
        "In this example we will build a CNN that will classify images into one of 2 catehgories : Horsew and Humans.\r\n",
        "\r\n",
        "## Prerequisites\r\n",
        "### Connecting Google Drive to Colab\r\n",
        "Useful to know how we connect our Gdrive to Google Colab so that we can save/load our files from there.  Below link has useful information on this:\r\n",
        "https://www.marktechpost.com/2019/06/07/how-to-connect-google-colab-with-google-drive/\r\n",
        "\r\n",
        "\r\n",
        "\r\n"
      ]
    },
    {
      "cell_type": "code",
      "metadata": {
        "colab": {
          "base_uri": "https://localhost:8080/"
        },
        "id": "Uf6eDyW2G0bv",
        "outputId": "b45a54b9-e1dc-4695-e240-f0a7007e7828"
      },
      "source": [
        "from google.colab import drive\r\n",
        "drive.mount('/content/gdrive', force_remount=True);\r\n"
      ],
      "execution_count": null,
      "outputs": [
        {
          "output_type": "stream",
          "text": [
            "Mounted at /content/gdrive\n"
          ],
          "name": "stdout"
        }
      ]
    },
    {
      "cell_type": "markdown",
      "metadata": {
        "id": "V8-kzyvm-NwB"
      },
      "source": [
        "### Download image data\r\n",
        "Example shows also how to download compressed data from URL and extract it into specific directory.\r\n",
        "\r\n",
        "Download both the treaining and validation data \r\n"
      ]
    },
    {
      "cell_type": "code",
      "metadata": {
        "id": "DHaDR0FTE9v6"
      },
      "source": [
        "import urllib.request\r\n",
        "import zipfile\r\n",
        "import tensorflow as tf\r\n",
        "\r\n",
        "url = \"https://storage.googleapis.com/laurencemoroney-blog.appspot.com/horse-or-human.zip\"\r\n",
        "file_name = \"horse-or-human.zip\"\r\n",
        "training_dir = '/content/gdrive/MyDrive/data/horse-or-human/training/'\r\n",
        "urllib.request.urlretrieve(url, file_name)\r\n",
        "zip_ref = zipfile.ZipFile(file_name, 'r')\r\n",
        "zip_ref.extractall(training_dir)\r\n",
        "zip_ref.close()\r\n",
        "\r\n",
        "\r\n",
        "v_url = \"https://storage.googleapis.com/laurencemoroney-blog.appspot.com/validation-horse-or-human.zip\"\r\n",
        "validation_file_name = \"validation-horse-or-human.zip\"\r\n",
        "validation_dir = '/content/gdrive/MyDrive/data/horse-or-human/validation/'\r\n",
        "urllib.request.urlretrieve(v_url, validation_file_name)\r\n",
        "zip_ref = zipfile.ZipFile(validation_file_name, 'r')\r\n",
        "zip_ref.extractall(validation_dir)\r\n",
        "zip_ref.close()\r\n"
      ],
      "execution_count": null,
      "outputs": []
    },
    {
      "cell_type": "markdown",
      "metadata": {
        "id": "uLKhpsH1NXNT"
      },
      "source": [
        "\r\n",
        "### Helpers\r\n",
        "1. Create a model. This will be helpful when we want to restore a saved model\r\n"
      ]
    },
    {
      "cell_type": "code",
      "metadata": {
        "id": "oPc-BP61678E"
      },
      "source": [
        "import tensorflow as tf\r\n",
        "def createModel():\r\n",
        "  \r\n",
        "  model = tf.keras.models.Sequential([\r\n",
        "    tf.keras.layers.Conv2D(16, (3,3), activation='relu' , input_shape=(300, 300, 3)),\r\n",
        "    tf.keras.layers.MaxPooling2D(2, 2),\r\n",
        "    tf.keras.layers.Conv2D(32, (3,3), activation='relu'),\r\n",
        "    tf.keras.layers.MaxPooling2D(2,2),\r\n",
        "    tf.keras.layers.Conv2D(64, (3,3), activation='relu'),\r\n",
        "    tf.keras.layers.MaxPooling2D(2,2),\r\n",
        "    tf.keras.layers.Conv2D(64, (3,3), activation='relu'),\r\n",
        "    tf.keras.layers.MaxPooling2D(2,2),\r\n",
        "    tf.keras.layers.Conv2D(64, (3,3), activation='relu'),\r\n",
        "    tf.keras.layers.MaxPooling2D(2,2),\r\n",
        "    tf.keras.layers.Flatten(),\r\n",
        "    tf.keras.layers.Dense(512, activation='relu'),\r\n",
        "    tf.keras.layers.Dense(1, activation='sigmoid')\r\n",
        "  ])\r\n",
        "\r\n",
        "  model.compile(loss='binary_crossentropy',\r\n",
        "        optimizer=tf.keras.optimizers.RMSprop(lr=0.001),\r\n",
        "        metrics=['accuracy'])\r\n",
        "\r\n",
        "  model.summary()\r\n",
        "  return model\r\n",
        "\r\n",
        "\r\n"
      ],
      "execution_count": null,
      "outputs": []
    },
    {
      "cell_type": "markdown",
      "metadata": {
        "id": "BlcciHCH9ZjZ"
      },
      "source": [
        "### Create Model input data pipeline \r\n",
        "Automatically assign labels to images\r\n",
        "This also setup a stream \r\n",
        "1. `ImageDataGenerator`  from keras is used to assign labels to images.\r\n",
        "2. `ImageDataGenerator` also sets up input data pipeline to our training/vaidation "
      ]
    },
    {
      "cell_type": "code",
      "metadata": {
        "colab": {
          "base_uri": "https://localhost:8080/"
        },
        "id": "3cdka-KL9kkd",
        "outputId": "e29a602e-80c8-41a6-dc5c-e7fb56cd3995"
      },
      "source": [
        "# Automatically assign labels to images\r\n",
        "from tensorflow.keras.preprocessing.image import ImageDataGenerator\r\n",
        "\r\n",
        "print (\"Training Data\")\r\n",
        "train_datagen = ImageDataGenerator(rescale=1/255)\r\n",
        "training_dir = '/content/gdrive/MyDrive/data/horse-or-human/training/'\r\n",
        "train_generator = train_datagen.flow_from_directory(\r\n",
        "  training_dir,\r\n",
        "  target_size=(300, 300),\r\n",
        "  class_mode='binary'\r\n",
        ")\r\n",
        "\r\n",
        "print (\"Validation Data\")\r\n",
        "validation_datagen = ImageDataGenerator(rescale=1/255)\r\n",
        "validation_dir = '/content/gdrive/MyDrive/data/horse-or-human/validation/'\r\n",
        "validation_generator = validation_datagen.flow_from_directory(\r\n",
        "  validation_dir,\r\n",
        "  target_size=(300, 300),\r\n",
        "  class_mode='binary'\r\n",
        ")\r\n"
      ],
      "execution_count": null,
      "outputs": [
        {
          "output_type": "stream",
          "text": [
            "Training Data\n",
            "Found 1027 images belonging to 2 classes.\n",
            "Validation Data\n",
            "Found 256 images belonging to 2 classes.\n"
          ],
          "name": "stdout"
        }
      ]
    },
    {
      "cell_type": "markdown",
      "metadata": {
        "id": "8VccAD3b9lly"
      },
      "source": [
        "### Setup Callbacks : Save Model, Stop Training\r\n",
        "1. Save the model every 5 epochs\r\n",
        "#### Saving/Restoring models \r\n",
        "In the code below I have setup logic to save the model data to my gdrive area. In case the training is interrupted I can reload the model and resume from where I left off thus saving valuable time. Below links provide useful information on model saving and restoring:\r\n",
        " 1. https://www.tensorflow.org/guide/keras/save_and_serialize\r\n",
        " 2. https://www.tensorflow.org/tutorials/keras/save_and_load\r\n",
        " 3. SavedModel format https://www.tensorflow.org/guide/saved_model\r\n",
        "\r\n",
        "2. Stop training once desired accuracy is reached"
      ]
    },
    {
      "cell_type": "code",
      "metadata": {
        "id": "AMXeAeF2NRhw"
      },
      "source": [
        "import tensorflow as tf\r\n",
        "import os\r\n",
        "\r\n",
        "########################\r\n",
        "# CallBacks\r\n",
        "#\r\n",
        "# 1. save model after every 5 epochs;  believe default batch size is 32 \r\n",
        "checkpoint_path = \"/content/gdrive/MyDrive/data/hoh_model/training_1/cp-{epoch:04d}.ckpt\"\r\n",
        "checkpoint_dir = os.path.dirname(checkpoint_path)\r\n",
        "batch_size =32;\r\n",
        "saveTheModel = tf.keras.callbacks.ModelCheckpoint(filepath=checkpoint_path,\r\n",
        "                                                 save_weights_only=True,\r\n",
        "                                                 save_freq = 5 * batch_size,\r\n",
        "                                                 verbose=1)\r\n",
        "# 2. stop training when desired accuracy is reached\r\n",
        "class stopTraining(tf.keras.callbacks.Callback):\r\n",
        "  def on_epoch_end(self, epoch, logs={}):\r\n",
        "    if(logs.get('accuracy') > 0.999 ):\r\n",
        "      print(\"\\nReached > 98% accuracy so cancelling training!\")\r\n",
        "      \r\n",
        "      self.model.stop_training = True\r\n",
        "\r\n",
        "stopTrainingCBObj = stopTraining();\r\n",
        "##################\r\n",
        "\r\n",
        "\r\n",
        "\r\n"
      ],
      "execution_count": null,
      "outputs": []
    },
    {
      "cell_type": "markdown",
      "metadata": {
        "id": "Ipb8Vo1BEcmw"
      },
      "source": [
        "\r\n",
        "### Setup Model\r\n",
        "1. Generate model topology\r\n",
        "2. setup the check saving format\r\n",
        "\r\n"
      ]
    },
    {
      "cell_type": "code",
      "metadata": {
        "id": "NDYBr5lCEayD"
      },
      "source": [
        "\r\n",
        "model = createModel();\r\n",
        "model.save_weights(checkpoint_path.format(epoch=0))"
      ],
      "execution_count": null,
      "outputs": []
    },
    {
      "cell_type": "markdown",
      "metadata": {
        "id": "BVHtXLBq_Ten"
      },
      "source": [
        "### Train the model\r\n",
        "Specify the optimization and loss functions and run them for specifed number of epochs \r\n"
      ]
    },
    {
      "cell_type": "code",
      "metadata": {
        "id": "LVe6-Ia3_u8h"
      },
      "source": [
        "# train the Model\r\n",
        "model_traiiningProfile = model.fit(\r\n",
        "  train_generator,\r\n",
        "  epochs=15,\r\n",
        "  callbacks=[saveTheModel, stopTrainingCBObj],\r\n",
        "  validation_data=validation_generator\r\n",
        ")\r\n",
        "\r\n",
        "# at end of training save in SavedModel format\r\n",
        "model.save('/content/gdrive/MyDrive/data/hoh_saved_model/my_model') \r\n"
      ],
      "execution_count": null,
      "outputs": []
    },
    {
      "cell_type": "markdown",
      "metadata": {
        "id": "yNnki3C8FEGj"
      },
      "source": [
        "### Loading a saved model\r\n",
        "The learned weights can saved and reloaded into freshly created model. \r\n",
        "The freshly created model only has the CNN topology, the optimizer setup: loss-func, metrics etc); it does NOT have weight and bias values. \r\n",
        "\r\n",
        "The saved weights/bias can be populated into thusly created model. That model can then be evaluated to identify images without having retrain it.\r\n"
      ]
    },
    {
      "cell_type": "code",
      "metadata": {
        "id": "wEebW-777noY"
      },
      "source": [
        "checkpoint_path = \"/content/gdrive/MyDrive/data/hoh_model/training_1/cp-{epoch:04d}.ckpt\"\r\n",
        "checkpoint_dir = os.path.dirname(checkpoint_path)\r\n",
        "print (\"Checkpoint directory : \" +  checkpoint_dir)\r\n",
        "latest = tf.train.latest_checkpoint(checkpoint_dir)\r\n",
        "print (\"Latest checkpoint \" +  latest)\r\n",
        "# Create a new model instance\r\n",
        "model = createModel()\r\n",
        "\r\n",
        "\r\n",
        "# evaluate without loading weights ( untrained model)\r\n",
        "loss, acc = model.evaluate(train_generator)\r\n",
        "print(\"Untrained model on Training data, accuracy: {:5.2f}%\".format(100 * acc))\r\n",
        "loss, acc = model.evaluate(validation_generator)\r\n",
        "print(\"Untrained Model on validation data, accuracy: {:5.2f}%\".format(100 * acc))\r\n",
        "# Load the previously saved weights\r\n",
        "# evaluate after loading weights ( trained model) \r\n",
        "model.load_weights(latest)\r\n",
        "loss, acc = model.evaluate(train_generator)\r\n",
        "print(\"Trained model on Training data, accuracy: {:5.2f}%\".format(100 * acc))\r\n",
        "loss, acc = model.evaluate(validation_generator)\r\n",
        "print(\"Trainedmodel on validation data, accuracy: {:5.2f}%\".format(100 * acc))"
      ],
      "execution_count": null,
      "outputs": []
    },
    {
      "cell_type": "markdown",
      "metadata": {
        "id": "sTDWzq7fHXCi"
      },
      "source": [
        "### Testing model\r\n",
        "\r\n",
        "Code Taken from:\r\n",
        "\r\n",
        "https://colab.research.google.com/github/lmoroney/dlaicourse/blob/master/Horse_or_Human_NoValidation.ipynb#scrollTo=DoWp43WxJDNT\r\n"
      ]
    },
    {
      "cell_type": "code",
      "metadata": {
        "colab": {
          "resources": {
            "http://localhost:8080/nbextensions/google.colab/files.js": {
              "data": "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",
              "ok": true,
              "headers": [
                [
                  "content-type",
                  "application/javascript"
                ]
              ],
              "status": 200,
              "status_text": ""
            }
          },
          "base_uri": "https://localhost:8080/",
          "height": 310
        },
        "id": "TLhSwAUJ-GFP",
        "outputId": "737f7b0b-6bbd-400e-c010-f3025a6b7dd1"
      },
      "source": [
        "\r\n",
        "import numpy as np\r\n",
        "from google.colab import files\r\n",
        "from keras.preprocessing import image\r\n",
        "\r\n",
        "uploaded = files.upload()\r\n",
        "\r\n",
        "for fn in uploaded.keys():\r\n",
        " \r\n",
        "  # predicting images\r\n",
        "  path = '/content/' + fn\r\n",
        "  img = image.load_img(path, target_size=(300, 300))\r\n",
        "  x = image.img_to_array(img)\r\n",
        "  x = np.expand_dims(x, axis=0)\r\n",
        "\r\n",
        "  images = np.vstack([x])\r\n",
        "  classes = model.predict(images, batch_size=10)\r\n",
        "  print(classes[0])\r\n",
        "  if classes[0]>0.5:\r\n",
        "    print(fn + \" is a human\")\r\n",
        "  else:\r\n",
        "    print(fn + \" is a horse\")"
      ],
      "execution_count": null,
      "outputs": [
        {
          "output_type": "display_data",
          "data": {
            "text/html": [
              "\n",
              "     <input type=\"file\" id=\"files-0248faba-29d5-44e9-a82f-9ade108c0913\" name=\"files[]\" multiple disabled\n",
              "        style=\"border:none\" />\n",
              "     <output id=\"result-0248faba-29d5-44e9-a82f-9ade108c0913\">\n",
              "      Upload widget is only available when the cell has been executed in the\n",
              "      current browser session. Please rerun this cell to enable.\n",
              "      </output>\n",
              "      <script src=\"/nbextensions/google.colab/files.js\"></script> "
            ],
            "text/plain": [
              "<IPython.core.display.HTML object>"
            ]
          },
          "metadata": {
            "tags": []
          }
        },
        {
          "output_type": "stream",
          "text": [
            "Saving horse1.jpg to horse1.jpg\n",
            "Saving horse2.jpg to horse2.jpg\n",
            "Saving human1.jpg to human1.jpg\n",
            "Saving human1PNG..png to human1PNG..png\n",
            "[1.]\n",
            "horse1.jpg is a human\n",
            "[1.]\n",
            "horse2.jpg is a human\n",
            "[1.]\n",
            "human1.jpg is a human\n",
            "[1.]\n",
            "human1PNG..png is a human\n"
          ],
          "name": "stdout"
        }
      ]
    },
    {
      "cell_type": "markdown",
      "metadata": {
        "id": "m8vg8-FcN4Ro"
      },
      "source": [
        "### Effect of convolution and pooling\r\n",
        "studying the convolution and pooling layers"
      ]
    },
    {
      "cell_type": "code",
      "metadata": {
        "colab": {
          "base_uri": "https://localhost:8080/"
        },
        "id": "boupy0YzOv-z",
        "outputId": "44b0d77f-66cd-4a4e-ad7b-1ac7e06fe009"
      },
      "source": [
        "!ls /content"
      ],
      "execution_count": null,
      "outputs": [
        {
          "output_type": "stream",
          "text": [
            "drive\t    horse2.jpg\t\thuman1PNG..png\n",
            "gdrive\t    horse-or-human.zip\tsample_data\n",
            "horse1.jpg  human1.jpg\t\tvalidation-horse-or-human.zip\n"
          ],
          "name": "stdout"
        }
      ]
    },
    {
      "cell_type": "code",
      "metadata": {
        "id": "44VeV31eN4_U"
      },
      "source": [
        "import matplotlib.pyplot as plt\r\n",
        "import numpy as np\r\n",
        "import random\r\n",
        "from tensorflow.keras.preprocessing.image import img_to_array, load_img\r\n",
        "\r\n",
        "# Let's define a new Model that will take an image as input, and will output\r\n",
        "# intermediate representations for all layers in the previous model after\r\n",
        "# the first.\r\n",
        "successive_outputs = [layer.output for layer in model.layers[1:]]\r\n",
        "#visualization_model = Model(img_input, successive_outputs)\r\n",
        "visualization_model = tf.keras.models.Model(inputs = model.input, outputs = successive_outputs)\r\n",
        "\r\n",
        "\r\n",
        "# DMK # Let's prepare a random input image from the training set.\r\n",
        "# DMK horse_img_files = [os.path.join(train_horse_dir, f) for f in train_horse_names]\r\n",
        "# DMK human_img_files = [os.path.join(train_human_dir, f) for f in train_human_names]\r\n",
        "# DMK img_path = random.choice(horse_img_files + human_img_files)\r\n",
        "img_path = '/content/horse1.jpg'\r\n",
        "\r\n",
        "img = load_img(img_path, target_size=(300, 300))  # this is a PIL image\r\n",
        "x = img_to_array(img)  # Numpy array with shape (150, 150, 3)\r\n",
        "x = x.reshape((1,) + x.shape)  # Numpy array with shape (1, 150, 150, 3)\r\n",
        "\r\n",
        "# Rescale by 1/255\r\n",
        "x /= 255\r\n",
        "\r\n",
        "# Let's run our image through our network, thus obtaining all\r\n",
        "# intermediate representations for this image.\r\n",
        "successive_feature_maps = visualization_model.predict(x)\r\n",
        "\r\n",
        "# These are the names of the layers, so can have them as part of our plot\r\n",
        "layer_names = [layer.name for layer in model.layers]\r\n",
        "\r\n",
        "# Now let's display our representations\r\n",
        "for layer_name, feature_map in zip(layer_names, successive_feature_maps):\r\n",
        "  if len(feature_map.shape) == 4:\r\n",
        "    \r\n",
        "    # Just do this for the conv / maxpool layers, not the fully-connected layers\r\n",
        "    n_features = feature_map.shape[-1]  # number of features in feature map\r\n",
        "    \r\n",
        "    # The feature map has shape (1, size, size, n_features)\r\n",
        "    size = feature_map.shape[1]\r\n",
        "    # We will tile our images in this matrix\r\n",
        "    display_grid = np.zeros((size, size * n_features))\r\n",
        "    for i in range(n_features):\r\n",
        "      # Postprocess the feature to make it visually palatable\r\n",
        "      x = feature_map[0, :, :, i]\r\n",
        "      x -= x.mean()\r\n",
        "      x /= x.std()\r\n",
        "      x *= 64\r\n",
        "      x += 128\r\n",
        "      x = np.clip(x, 0, 255).astype('uint8')\r\n",
        "      # We'll tile each filter into this big horizontal grid\r\n",
        "      display_grid[:, i * size : (i + 1) * size] = x\r\n",
        "    # Display the grid\r\n",
        "    scale = 20. / n_features\r\n",
        "    plt.figure(figsize=(scale * n_features, scale))\r\n",
        "    plt.title(layer_name)\r\n",
        "    plt.grid(False)\r\n",
        "    plt.imshow(display_grid, aspect='auto', cmap='viridis')"
      ],
      "execution_count": null,
      "outputs": []
    },
    {
      "cell_type": "markdown",
      "metadata": {
        "id": "dr2C-8PreOHq"
      },
      "source": [
        "# Augmentation\r\n",
        "\r\n",
        "## Create Model and train with augmented data\r\n",
        "This is a technique to generate additional variations from the training dataset. These variations  + training dataset are then fed into training process to further refine the quality of the CNN model\r\n",
        "\r\n"
      ]
    },
    {
      "cell_type": "code",
      "metadata": {
        "id": "hof9k852fIcC"
      },
      "source": [
        "import tensorflow as tf\r\n",
        "\r\n",
        "\r\n",
        "########################\r\n",
        "#\r\n",
        "# Generate labels to images\r\n",
        "# Augment the input training data with variations\r\n",
        "# Setup the training generator to regeneerate the new training set \r\n",
        "#\r\n",
        "from tensorflow.keras.preprocessing.image import ImageDataGenerator\r\n",
        "###############################\r\n",
        "#\r\n",
        "# Augment the training data\r\n",
        "#\r\n",
        "train_datagen = ImageDataGenerator(\r\n",
        "  rescale=1./255,\r\n",
        "  rotation_range=40,\r\n",
        "  width_shift_range=0.2,\r\n",
        "  height_shift_range=0.2,\r\n",
        "  shear_range=0.2,\r\n",
        "  zoom_range=0.2,\r\n",
        "  horizontal_flip=True,\r\n",
        "  fill_mode='nearest'\r\n",
        ")\r\n",
        "\r\n",
        "##############################\r\n",
        "#\r\n",
        "# setup trainng data pipelines\r\n",
        "#\r\n",
        "training_dir = '/content/gdrive/MyDrive/data/horse-or-human/training/'\r\n",
        "train_generator = train_datagen.flow_from_directory(\r\n",
        "  training_dir,\r\n",
        "  target_size=(300, 300),\r\n",
        "  class_mode='binary'\r\n",
        ")\r\n",
        "\r\n",
        "##############################\r\n",
        "#\r\n",
        "# setup validation data pipelines\r\n",
        "#\r\n",
        "print (\"Validation Data\")\r\n",
        "validation_datagen = ImageDataGenerator(rescale=1/255)\r\n",
        "validation_dir = '/content/gdrive/MyDrive/data/horse-or-human/validation/'\r\n",
        "validation_generator = validation_datagen.flow_from_directory(\r\n",
        "  validation_dir,\r\n",
        "  target_size=(300, 300),\r\n",
        "  class_mode='binary'\r\n",
        ")\r\n",
        "\r\n",
        "########################\r\n",
        "#\r\n",
        "# Create a new model instance\r\n",
        "#\r\n",
        "model = createModel()\r\n",
        "\r\n",
        "\r\n",
        "########################\r\n",
        "#\r\n",
        "# define callBacks\r\n",
        "#\r\n",
        "# 1. save model after every 5 epochs;  believe default batch size is 32 \r\n",
        "checkpoint_path = \"/content/gdrive/MyDrive/data/hoh_model/aug_training_1/cp-{epoch:04d}.ckpt\"\r\n",
        "checkpoint_dir = os.path.dirname(checkpoint_path)\r\n",
        "batch_size =32;\r\n",
        "saveTheModel = tf.keras.callbacks.ModelCheckpoint(filepath=checkpoint_path,\r\n",
        "                                                 save_weights_only=True,\r\n",
        "                                                 save_freq = 5 * batch_size,\r\n",
        "                                                 verbose=1)\r\n",
        "# 2. stop training when desired accuracy is reached\r\n",
        "class stopTraining(tf.keras.callbacks.Callback):\r\n",
        "  def on_epoch_end(self, epoch, logs={}):\r\n",
        "    if(logs.get('accuracy')>0.999):\r\n",
        "      print(\"\\nReached > 98% accuracy so cancelling training!\")\r\n",
        "      self.model.stop_training = True\r\n",
        "\r\n",
        "stopTrainingCBObj = stopTraining();\r\n",
        "\r\n",
        "\r\n",
        "####################\r\n",
        "#\r\n",
        "# train model (register call backs while training model )\r\n",
        "#\r\n",
        "featureAugTrainingProfile = model.fit(\r\n",
        "  train_generator,\r\n",
        "  epochs=45,\r\n",
        "  callbacks=[saveTheModel, stopTrainingCBObj]\r\n",
        ")\r\n",
        "\r\n",
        "# at end of training save in SavedModel format\r\n",
        "model.save('/content/gdrive/MyDrive/data/hoh_saved_aug_model/my_model') \r\n"
      ],
      "execution_count": null,
      "outputs": []
    },
    {
      "cell_type": "markdown",
      "metadata": {
        "id": "Z6vhPzIvRti7"
      },
      "source": [
        "## Check Augumented model \r\n",
        "Reload the saved auugmented model and evaluate its 'efficacy' with validation data "
      ]
    },
    {
      "cell_type": "code",
      "metadata": {
        "id": "6lUV1XYaRzb3"
      },
      "source": [
        "\r\n",
        "checkpoint_path = \"/content/gdrive/MyDrive/data/hoh_model/aug_training_1/cp-{epoch:04d}.ckpt\"\r\n",
        "checkpoint_dir = os.path.dirname(checkpoint_path)\r\n",
        "print (\"Checkpoint directory : \" +  checkpoint_dir)\r\n",
        "latest = tf.train.latest_checkpoint(checkpoint_dir)\r\n",
        "print (\"Latest checkpoint \" +  latest)\r\n",
        "\r\n",
        "# Create a new model instance\r\n",
        "model = createModel()\r\n",
        "\r\n",
        "# evaluate without loading weights ( untrained model)\r\n",
        "loss, acc = model.evaluate(train_generator)\r\n",
        "print(\"Untrained model on Training data, accuracy: {:5.2f}%\".format(100 * acc))\r\n",
        "loss, acc = model.evaluate(validation_generator)\r\n",
        "print(\"Untrained Model on validation data, accuracy: {:5.2f}%\".format(100 * acc))\r\n",
        "# Load the previously saved weights\r\n",
        "# evaluate after loading weights ( trained model) \r\n",
        "model.load_weights(latest)\r\n",
        "loss, acc = model.evaluate(train_generator)\r\n",
        "print(\"Trained model on Training data, accuracy: {:5.2f}%\".format(100 * acc))\r\n",
        "loss, acc = model.evaluate(validation_generator)\r\n",
        "print(\"Trainedmodel on validation data, accuracy: {:5.2f}%\".format(100 * acc))"
      ],
      "execution_count": null,
      "outputs": []
    },
    {
      "cell_type": "markdown",
      "metadata": {
        "id": "YCpM4j7R1l-Y"
      },
      "source": [
        "# Transfer Learning\r\n",
        "\r\n",
        "We can take a pre-trained model and attach it our model to improve the accuracy of our image recognition model. The pre-trained model  is already trained to recognize more images than ours. We 'lock' that model down from being retrained and instead  'connect' that model to our model and run our training. The training  will treat the weights and biases of pretrained model as constants. The weights and biases will be used by training routine to help determine the optimal set of weights of biases for the last layer of our model. This the pre-trained model will help our model to 'leverage' its weights and biases to lran our dataset more effectively.\r\n",
        "\r\n",
        "\r\n"
      ]
    },
    {
      "cell_type": "code",
      "metadata": {
        "id": "W0Rny6LK1ljr"
      },
      "source": [
        "from tensorflow.keras.applications.inception_v3 import InceptionV3\r\n",
        "import urllib.request\r\n",
        "\r\n",
        "weights_url = \"https://storage.googleapis.com/mledu-datasets/inception_v3_weights_tf_dim_ordering_tf_kernels_notop.h5\"\r\n",
        "\r\n",
        "weights_file = \"/content/gdrive/MyDrive/data/inceptionv3/inception_v3.h5\"\r\n",
        "urllib.request.urlretrieve(weights_url, weights_file)\r\n",
        "\r\n",
        "pre_trained_model = InceptionV3(input_shape=(300, 300, 3),\r\n",
        "                include_top=False,\r\n",
        "                weights=None)\r\n",
        "\r\n",
        "pre_trained_model.load_weights(weights_file)\r\n",
        "\r\n"
      ],
      "execution_count": null,
      "outputs": []
    },
    {
      "cell_type": "markdown",
      "metadata": {
        "id": "GzUH1j5CsdbG"
      },
      "source": [
        "### Inception model structure"
      ]
    },
    {
      "cell_type": "code",
      "metadata": {
        "id": "gxVlfutwscmQ"
      },
      "source": [
        "pre_trained_model.summary()"
      ],
      "execution_count": null,
      "outputs": []
    },
    {
      "cell_type": "markdown",
      "metadata": {
        "id": "B3W1qSEstcnE"
      },
      "source": [
        "### Connecting the Inception Model to our model\r\n",
        "\r\n",
        "We take the inception model and select one of layers to connect to our model.\r\n",
        "\r\n",
        "Before training, we lock the Inception model layers from being trained by our optimizer. \r\n",
        "\r\n",
        "\r\n"
      ]
    },
    {
      "cell_type": "code",
      "metadata": {
        "colab": {
          "base_uri": "https://localhost:8080/"
        },
        "id": "sirR6z-stu3N",
        "outputId": "5f7fc12b-81df-4353-a5cd-2c992295ddd0"
      },
      "source": [
        "import tensorflow as tf\r\n",
        "\r\n",
        "for layer in pre_trained_model.layers:\r\n",
        "  layer.trainable = False\r\n",
        "\r\n",
        "last_layer = pre_trained_model.get_layer('mixed7')\r\n",
        "print('last layer output shape: ', last_layer.output_shape)\r\n",
        "last_output = last_layer.output\r\n",
        "\r\n",
        "# Flatten the output layer to 1 dimension\r\n",
        "x = tf.keras.layers.Flatten()(last_output)\r\n",
        "# Add a fully connected layer with 1,024 hidden units and ReLU activation\r\n",
        "x = tf.keras.layers.Dense(1024, activation='relu')(x)\r\n",
        "# Add a final sigmoid layer for classification\r\n",
        "x = tf.keras.layers.Dense(1, activation='sigmoid')(x)\r\n",
        "\r\n",
        "model = tf.keras.Model(pre_trained_model.input, x)\r\n",
        "\r\n",
        "model.compile(optimizer=tf.keras.optimizers.RMSprop(lr=0.0001),\r\n",
        "       loss='binary_crossentropy',\r\n",
        "       metrics=['acc'])\r\n",
        "\r\n",
        "\r\n",
        "# redefine the save callback to point to different area\r\n",
        "checkpoint_path = \"/content/gdrive/MyDrive/data/hoh_model/tl_training_1/cp-{epoch:04d}.ckpt\"\r\n",
        "checkpoint_dir = os.path.dirname(checkpoint_path)\r\n",
        "batch_size =32;\r\n",
        "saveTheModel = tf.keras.callbacks.ModelCheckpoint(filepath=checkpoint_path,\r\n",
        "                                                 save_weights_only=True,\r\n",
        "                                                 save_freq = 5 * batch_size,\r\n",
        "                                                 verbose=1)\r\n",
        "# re-register call backs anbd rerun training \r\n",
        "tl_TrainingProfile = model.fit(\r\n",
        "  train_generator,\r\n",
        "  epochs=45,\r\n",
        "  callbacks=[saveTheModel],\r\n",
        "  validation_data=validation_generator\r\n",
        ")\r\n",
        "\r\n",
        "\r\n"
      ],
      "execution_count": null,
      "outputs": [
        {
          "output_type": "stream",
          "text": [
            "last layer output shape:  (None, 17, 17, 768)\n",
            "Epoch 1/45\n",
            "33/33 [==============================] - 378s 11s/step - loss: 1.6492 - acc: 0.8457 - val_loss: 0.4390 - val_acc: 0.9219\n",
            "Epoch 2/45\n",
            "20/33 [=================>............] - ETA: 1:43 - loss: 4.5327e-05 - acc: 1.0000"
          ],
          "name": "stdout"
        }
      ]
    },
    {
      "cell_type": "markdown",
      "metadata": {
        "id": "V9OLxn8BgZfv"
      },
      "source": [
        "# Using TesorFlow DataSets\r\n",
        "\r\n",
        "TFDS moduke of TF defines an API merhod `load`,  that can be used get data into a format suitable for training and validation by TF system.\r\n",
        "\r\n",
        "This method has several attributes\r\n",
        "``name`` \r\n",
        "``split`` \r\n",
        "``with_info`` \r\n",
        "etc"
      ]
    },
    {
      "cell_type": "code",
      "metadata": {
        "colab": {
          "base_uri": "https://localhost:8080/",
          "height": 381,
          "referenced_widgets": [
            "3ceee7f01c094804b1764d21ba752076",
            "aac72d7367a64883820d78952a34aed5",
            "cd127a0a3643403f9b0e54b703ab5627",
            "7a48377ee83e4aaaa24ffc6f4c55e1d2",
            "d8bc185e8749412fa5c1ea6fe587050d",
            "e81f3fb012d94d5e94e0eb967e01154b",
            "5cadcc088b4345fda8e54f72ae5cd06c",
            "a21f386b0aac498386cd7c556a8da053",
            "fba5a7db4a3f41d2bd9dd1f4bf916adf",
            "0431fb641b12436e89243ee957390d55",
            "05a1b5916a0a4ba4be0b85c2385f119f",
            "ef4a2b49495c43139365286bcf73278f",
            "de5edba7197a4d569f3541a7d42db1be",
            "09e9d28f039d420eaf40aab20d1a9707",
            "142c43148ba14b1d83d3bed114c22405",
            "12c0d83f4af348cabbf3d0bfc1ea5ac7",
            "742b31f1ad2343d89abdcab967bdaa59",
            "379ad42bb701433497e3bca66427d253",
            "204f5fa89a4e429d997d4eb0aff5eb31",
            "78ac29fcfc0b409da4f4cde8d51f78dc",
            "60e025ad03b94a99b3ca7b8dc105998a",
            "157959e84e3244feb947bfc66910d684",
            "23ff31fc629b4a9cbdf056f98be8fed8",
            "2c4e75cd1aca4b4bba9b770a6ed8d4f8",
            "5d4365f0f801485187858b7fa57c3b17",
            "acb8af20a5284bbeb7e80ce124f9296c",
            "76811f8d6b3a4f2cab4860f1864707a1",
            "551a17247b604d2e8135b4fc51f50cbc",
            "4340d0cc1c814acfa6de983c0b2576f1",
            "197ffbcabc924b049eca212eec9449b4",
            "9076a2bbec054eeca77611b031786bc6",
            "d4a0f774fb3d4e2a9ff977bb274f2c71",
            "000a50261e9647768c2658f6a7b12e5f",
            "04252041d81640eba1c7e82b527ab24e",
            "99d6cf353ae44e32a8ddc422ca6439ff",
            "f444676567f7456aaed925f39585d373",
            "c098f0a4103e444d856112cb8f4d1686",
            "b0abc85e468c408eb5b9e145bbf9d63e",
            "2d62123d56ca4a6fb4d09a6297b3eaa0",
            "ed520d40e35e490d8bb261ecea7260a5",
            "0019d17dc2634b058ad54822c253ca75",
            "a2aeb0a15ab647d4ba68485367e906b2",
            "a47e9fa1dd724d289a23dc58ecc0377d",
            "2cad6a4f87e94d59bcfea240963440ab",
            "541c5087ecbe460d9022f739b074f03e",
            "b28108b7a014475a8619517791c10ace",
            "ecf7720fa4034b96ae11e3be808dc6b4",
            "a694863bdd564e36996a3464630625ab",
            "b023252dd6e14b5d94c5af726b7080b0",
            "d94899879e234f41b4e037b4ec084514",
            "03f832f471f24e809880f64c3bd4c225",
            "cab1eb29909a4c4799d92c3ddfd991da",
            "40b98a20a1914d86ac375564c96ac117",
            "a7271e30525f4a598922ee70957d8e8e",
            "c59b777117ae4ce09977af5a6b66ab55",
            "c5d208a818174c0c9d5d921ac5e3b344"
          ]
        },
        "id": "7muxxJGOgv12",
        "outputId": "4107c65b-5cd0-4452-d2c5-d4374f7285ef"
      },
      "source": [
        "#data = tf.keras.datasets.fashion_mnist\r\n",
        "\r\n",
        "#(training_images, training_labels), (test_images, test_labels) = data.load_data()\r\n",
        "\r\n",
        "\r\n",
        "import tensorflow as tf\r\n",
        "import tensorflow_datasets as tfds\r\n",
        "mnist_data = tfds.load(\"fashion_mnist\")\r\n",
        "for item in mnist_data:\r\n",
        "  print(item)"
      ],
      "execution_count": null,
      "outputs": [
        {
          "output_type": "stream",
          "text": [
            "\u001b[1mDownloading and preparing dataset fashion_mnist/3.0.1 (download: 29.45 MiB, generated: 36.42 MiB, total: 65.87 MiB) to /root/tensorflow_datasets/fashion_mnist/3.0.1...\u001b[0m\n"
          ],
          "name": "stdout"
        },
        {
          "output_type": "display_data",
          "data": {
            "application/vnd.jupyter.widget-view+json": {
              "model_id": "3ceee7f01c094804b1764d21ba752076",
              "version_minor": 0,
              "version_major": 2
            },
            "text/plain": [
              "HBox(children=(FloatProgress(value=1.0, bar_style='info', description='Dl Completed...', max=1.0, style=Progre…"
            ]
          },
          "metadata": {
            "tags": []
          }
        },
        {
          "output_type": "display_data",
          "data": {
            "application/vnd.jupyter.widget-view+json": {
              "model_id": "fba5a7db4a3f41d2bd9dd1f4bf916adf",
              "version_minor": 0,
              "version_major": 2
            },
            "text/plain": [
              "HBox(children=(FloatProgress(value=1.0, bar_style='info', description='Dl Size...', max=1.0, style=ProgressSty…"
            ]
          },
          "metadata": {
            "tags": []
          }
        },
        {
          "output_type": "display_data",
          "data": {
            "application/vnd.jupyter.widget-view+json": {
              "model_id": "742b31f1ad2343d89abdcab967bdaa59",
              "version_minor": 0,
              "version_major": 2
            },
            "text/plain": [
              "HBox(children=(FloatProgress(value=1.0, bar_style='info', description='Extraction completed...', max=1.0, styl…"
            ]
          },
          "metadata": {
            "tags": []
          }
        },
        {
          "output_type": "stream",
          "text": [
            "\n",
            "\n",
            "\n",
            "\n",
            "\n",
            "\n"
          ],
          "name": "stdout"
        },
        {
          "output_type": "display_data",
          "data": {
            "application/vnd.jupyter.widget-view+json": {
              "model_id": "5d4365f0f801485187858b7fa57c3b17",
              "version_minor": 0,
              "version_major": 2
            },
            "text/plain": [
              "HBox(children=(FloatProgress(value=1.0, bar_style='info', max=1.0), HTML(value='')))"
            ]
          },
          "metadata": {
            "tags": []
          }
        },
        {
          "output_type": "stream",
          "text": [
            "\rShuffling and writing examples to /root/tensorflow_datasets/fashion_mnist/3.0.1.incompleteRPJLB7/fashion_mnist-train.tfrecord\n"
          ],
          "name": "stdout"
        },
        {
          "output_type": "display_data",
          "data": {
            "application/vnd.jupyter.widget-view+json": {
              "model_id": "000a50261e9647768c2658f6a7b12e5f",
              "version_minor": 0,
              "version_major": 2
            },
            "text/plain": [
              "HBox(children=(FloatProgress(value=0.0, max=60000.0), HTML(value='')))"
            ]
          },
          "metadata": {
            "tags": []
          }
        },
        {
          "output_type": "stream",
          "text": [
            "\r"
          ],
          "name": "stdout"
        },
        {
          "output_type": "display_data",
          "data": {
            "application/vnd.jupyter.widget-view+json": {
              "model_id": "0019d17dc2634b058ad54822c253ca75",
              "version_minor": 0,
              "version_major": 2
            },
            "text/plain": [
              "HBox(children=(FloatProgress(value=1.0, bar_style='info', max=1.0), HTML(value='')))"
            ]
          },
          "metadata": {
            "tags": []
          }
        },
        {
          "output_type": "stream",
          "text": [
            "\rShuffling and writing examples to /root/tensorflow_datasets/fashion_mnist/3.0.1.incompleteRPJLB7/fashion_mnist-test.tfrecord\n"
          ],
          "name": "stdout"
        },
        {
          "output_type": "display_data",
          "data": {
            "application/vnd.jupyter.widget-view+json": {
              "model_id": "b023252dd6e14b5d94c5af726b7080b0",
              "version_minor": 0,
              "version_major": 2
            },
            "text/plain": [
              "HBox(children=(FloatProgress(value=0.0, max=10000.0), HTML(value='')))"
            ]
          },
          "metadata": {
            "tags": []
          }
        },
        {
          "output_type": "stream",
          "text": [
            "\u001b[1mDataset fashion_mnist downloaded and prepared to /root/tensorflow_datasets/fashion_mnist/3.0.1. Subsequent calls will reuse this data.\u001b[0m\n",
            "\rtest\n",
            "train\n"
          ],
          "name": "stdout"
        }
      ]
    },
    {
      "cell_type": "markdown",
      "metadata": {
        "id": "G-FUIhMAkkR4"
      },
      "source": [
        "## Accessing splits in data\r\n",
        "\r\n",
        "use the ``split`` attribute of te load metod to specify which split to access "
      ]
    },
    {
      "cell_type": "code",
      "metadata": {
        "colab": {
          "base_uri": "https://localhost:8080/"
        },
        "id": "06n8Ke06kdEm",
        "outputId": "9813b085-44d9-4624-a2dd-677f4aae9daa"
      },
      "source": [
        "mnist_train = tfds.load(name=\"fashion_mnist\", split=\"train\")\r\n",
        "assert isinstance(mnist_train, tf.data.Dataset) # ensure dataset is extracted\r\n",
        "# dataset is a DatasetAdapter object that is collection of records\r\n",
        "print(type(mnist_train))\r\n",
        "\r\n",
        "\r\n",
        "# use the take(n) method of DataSetAdapter to get the first record\r\n",
        "# each record is a python dictionary\r\n",
        "for item in mnist_train.take(1):\r\n",
        "  print(type(item))\r\n",
        "  print(item.keys())\r\n",
        "  # describe the dictionary structure \r\n",
        "  "
      ],
      "execution_count": null,
      "outputs": [
        {
          "output_type": "stream",
          "text": [
            "<class 'tensorflow.python.data.ops.dataset_ops.PrefetchDataset'>\n",
            "<class 'dict'>\n",
            "dict_keys(['image', 'label'])\n",
            "tf.Tensor(2, shape=(), dtype=int64)\n"
          ],
          "name": "stdout"
        }
      ]
    },
    {
      "cell_type": "markdown",
      "metadata": {
        "id": "SPpHPuIZHYGB"
      },
      "source": [
        "## Getting dataset Metadata\r\n",
        "\r\n",
        "use the ``with_info`` attribute"
      ]
    },
    {
      "cell_type": "code",
      "metadata": {
        "colab": {
          "base_uri": "https://localhost:8080/"
        },
        "id": "9FfPanDBHXTg",
        "outputId": "6f26baec-7382-4f67-89ee-077a263406a2"
      },
      "source": [
        "mnist_test, info = tfds.load(name=\"fashion_mnist\", with_info=\"true\")\r\n",
        "print(info)"
      ],
      "execution_count": null,
      "outputs": [
        {
          "output_type": "stream",
          "text": [
            "tfds.core.DatasetInfo(\n",
            "    name='fashion_mnist',\n",
            "    version=3.0.1,\n",
            "    description='Fashion-MNIST is a dataset of Zalando's article images consisting of a training set of 60,000 examples and a test set of 10,000 examples. Each example is a 28x28 grayscale image, associated with a label from 10 classes.',\n",
            "    homepage='https://github.com/zalandoresearch/fashion-mnist',\n",
            "    features=FeaturesDict({\n",
            "        'image': Image(shape=(28, 28, 1), dtype=tf.uint8),\n",
            "        'label': ClassLabel(shape=(), dtype=tf.int64, num_classes=10),\n",
            "    }),\n",
            "    total_num_examples=70000,\n",
            "    splits={\n",
            "        'test': 10000,\n",
            "        'train': 60000,\n",
            "    },\n",
            "    supervised_keys=('image', 'label'),\n",
            "    citation=\"\"\"@article{DBLP:journals/corr/abs-1708-07747,\n",
            "      author    = {Han Xiao and\n",
            "                   Kashif Rasul and\n",
            "                   Roland Vollgraf},\n",
            "      title     = {Fashion-MNIST: a Novel Image Dataset for Benchmarking Machine Learning\n",
            "                   Algorithms},\n",
            "      journal   = {CoRR},\n",
            "      volume    = {abs/1708.07747},\n",
            "      year      = {2017},\n",
            "      url       = {http://arxiv.org/abs/1708.07747},\n",
            "      archivePrefix = {arXiv},\n",
            "      eprint    = {1708.07747},\n",
            "      timestamp = {Mon, 13 Aug 2018 16:47:27 +0200},\n",
            "      biburl    = {https://dblp.org/rec/bib/journals/corr/abs-1708-07747},\n",
            "      bibsource = {dblp computer science bibliography, https://dblp.org}\n",
            "    }\"\"\",\n",
            "    redistribution_info=,\n",
            ")\n",
            "\n"
          ],
          "name": "stdout"
        }
      ]
    }
  ]
}